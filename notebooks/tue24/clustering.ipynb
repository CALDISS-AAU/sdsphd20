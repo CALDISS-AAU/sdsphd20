{
 "cells": [
  {
   "cell_type": "markdown",
   "metadata": {},
   "source": [
    "# Clustering - a world of patterns"
   ]
  },
  {
   "cell_type": "markdown",
   "metadata": {},
   "source": [
    "Today, we're talking about **clustering**;\n",
    "\n",
    "Clustering is a tool we use to find patterns in messy data. Actually, we can find patterns in anything... as long as we remember that clustering only makes sense if we understand the data we feed the model.\n",
    "\n",
    "Clustering is a general term for a multitude of algorithms that looks for patterns - from the very simple to the very complex to the downright weird.\n",
    "\n",
    "Celebs that enjoy clustering:\n",
    "\n",
    "![tech-giants](https://4.bp.blogspot.com/-X7BHS66c1U8/UlX7OcLfnWI/AAAAAAAABnU/83lHDaDPeng/s1600/logos.png)"
   ]
  },
  {
   "cell_type": "markdown",
   "metadata": {},
   "source": [
    "Why do they enjoy clustering?\n",
    "\n",
    "Because it's a great way to maximize profits, sell more crap and make sure they hit the right market-segment."
   ]
  },
  {
   "cell_type": "markdown",
   "metadata": {},
   "source": [
    "![old](https://www.fish-marketing.com/site/wp-content/uploads/2018/01/blog.jpg)"
   ]
  },
  {
   "cell_type": "markdown",
   "metadata": {},
   "source": [
    "Let's import some stuff we need. I have this weird thing (it's not really weird, it's the only reasonable way of doing it, but you know.... sometimes objective truth just isn't for everyone) where I import my stuff first. No importing stuff along the way. It looks messy and we lack an overview."
   ]
  },
  {
   "cell_type": "code",
   "execution_count": 11,
   "metadata": {},
   "outputs": [],
   "source": [
    "import pandas as pd\n",
    "from matplotlib import pyplot as plt\n",
    "from sklearn.cluster import AgglomerativeClustering\n",
    "from scipy.cluster.hierarchy import dendrogram, linkage \n",
    "from sklearn import metrics\n",
    "from sklearn.metrics import davies_bouldin_score"
   ]
  },
  {
   "cell_type": "markdown",
   "metadata": {},
   "source": [
    "The main packages are:\n",
    "* Pandas\n",
    "* Matplotlib\n",
    "* Scikit-learn (her sklearn)\n",
    "* Scipy"
   ]
  },
  {
   "cell_type": "markdown",
   "metadata": {},
   "source": [
    "I should be using *Seaborn* as a visualization tool but it makes the weirdest dendrogram (more on that later) so I'll just stick with good 'ol matty-lib.\n"
   ]
  },
  {
   "cell_type": "markdown",
   "metadata": {},
   "source": [
    "I'm using data from the Danish Value Study from 1999. I know - it's super old. I was 13 years old when that survey was made and.... I suddenly feel old. Nevertheless, I always use this data when I introduce to clustering. Why? Because it does something really neat\n",
    "\n",
    "Data is here:"
   ]
  },
  {
   "cell_type": "code",
   "execution_count": 12,
   "metadata": {},
   "outputs": [],
   "source": [
    "df=pd.read_csv(\"https://raw.githubusercontent.com/CALDISS-AAU/sdsphd20/master/datasets/value99_dataset.csv\")"
   ]
  },
  {
   "cell_type": "code",
   "execution_count": 13,
   "metadata": {},
   "outputs": [
    {
     "data": {
      "text/html": [
       "<div>\n",
       "<style scoped>\n",
       "    .dataframe tbody tr th:only-of-type {\n",
       "        vertical-align: middle;\n",
       "    }\n",
       "\n",
       "    .dataframe tbody tr th {\n",
       "        vertical-align: top;\n",
       "    }\n",
       "\n",
       "    .dataframe thead th {\n",
       "        text-align: right;\n",
       "    }\n",
       "</style>\n",
       "<table border=\"1\" class=\"dataframe\">\n",
       "  <thead>\n",
       "    <tr style=\"text-align: right;\">\n",
       "      <th></th>\n",
       "      <th>gender</th>\n",
       "      <th>income</th>\n",
       "      <th>criminals</th>\n",
       "      <th>diffrace</th>\n",
       "      <th>leftwings</th>\n",
       "      <th>alcoholics</th>\n",
       "      <th>rightwings</th>\n",
       "      <th>manykids</th>\n",
       "      <th>neurotics</th>\n",
       "      <th>muslims</th>\n",
       "      <th>imigrants</th>\n",
       "      <th>aids</th>\n",
       "      <th>addicts</th>\n",
       "      <th>homoseksuals</th>\n",
       "      <th>jews</th>\n",
       "      <th>gypsies</th>\n",
       "      <th>age</th>\n",
       "      <th>edu</th>\n",
       "      <th>id</th>\n",
       "    </tr>\n",
       "  </thead>\n",
       "  <tbody>\n",
       "    <tr>\n",
       "      <th>0</th>\n",
       "      <td>2</td>\n",
       "      <td>900000</td>\n",
       "      <td>0</td>\n",
       "      <td>0</td>\n",
       "      <td>0</td>\n",
       "      <td>0</td>\n",
       "      <td>1</td>\n",
       "      <td>0</td>\n",
       "      <td>0</td>\n",
       "      <td>0</td>\n",
       "      <td>0</td>\n",
       "      <td>0</td>\n",
       "      <td>0</td>\n",
       "      <td>0</td>\n",
       "      <td>0</td>\n",
       "      <td>0</td>\n",
       "      <td>48</td>\n",
       "      <td>4</td>\n",
       "      <td>1</td>\n",
       "    </tr>\n",
       "    <tr>\n",
       "      <th>1</th>\n",
       "      <td>1</td>\n",
       "      <td>180000</td>\n",
       "      <td>0</td>\n",
       "      <td>0</td>\n",
       "      <td>0</td>\n",
       "      <td>0</td>\n",
       "      <td>1</td>\n",
       "      <td>0</td>\n",
       "      <td>1</td>\n",
       "      <td>0</td>\n",
       "      <td>0</td>\n",
       "      <td>0</td>\n",
       "      <td>0</td>\n",
       "      <td>0</td>\n",
       "      <td>0</td>\n",
       "      <td>0</td>\n",
       "      <td>30</td>\n",
       "      <td>4</td>\n",
       "      <td>2</td>\n",
       "    </tr>\n",
       "    <tr>\n",
       "      <th>2</th>\n",
       "      <td>1</td>\n",
       "      <td>600000</td>\n",
       "      <td>0</td>\n",
       "      <td>0</td>\n",
       "      <td>0</td>\n",
       "      <td>0</td>\n",
       "      <td>0</td>\n",
       "      <td>0</td>\n",
       "      <td>0</td>\n",
       "      <td>0</td>\n",
       "      <td>0</td>\n",
       "      <td>0</td>\n",
       "      <td>0</td>\n",
       "      <td>0</td>\n",
       "      <td>0</td>\n",
       "      <td>0</td>\n",
       "      <td>57</td>\n",
       "      <td>3</td>\n",
       "      <td>3</td>\n",
       "    </tr>\n",
       "    <tr>\n",
       "      <th>3</th>\n",
       "      <td>2</td>\n",
       "      <td>180000</td>\n",
       "      <td>1</td>\n",
       "      <td>0</td>\n",
       "      <td>0</td>\n",
       "      <td>1</td>\n",
       "      <td>0</td>\n",
       "      <td>0</td>\n",
       "      <td>0</td>\n",
       "      <td>0</td>\n",
       "      <td>0</td>\n",
       "      <td>0</td>\n",
       "      <td>1</td>\n",
       "      <td>0</td>\n",
       "      <td>0</td>\n",
       "      <td>0</td>\n",
       "      <td>55</td>\n",
       "      <td>0</td>\n",
       "      <td>4</td>\n",
       "    </tr>\n",
       "    <tr>\n",
       "      <th>4</th>\n",
       "      <td>2</td>\n",
       "      <td>60000</td>\n",
       "      <td>0</td>\n",
       "      <td>0</td>\n",
       "      <td>0</td>\n",
       "      <td>0</td>\n",
       "      <td>0</td>\n",
       "      <td>0</td>\n",
       "      <td>0</td>\n",
       "      <td>0</td>\n",
       "      <td>0</td>\n",
       "      <td>0</td>\n",
       "      <td>1</td>\n",
       "      <td>0</td>\n",
       "      <td>0</td>\n",
       "      <td>0</td>\n",
       "      <td>21</td>\n",
       "      <td>0</td>\n",
       "      <td>5</td>\n",
       "    </tr>\n",
       "  </tbody>\n",
       "</table>\n",
       "</div>"
      ],
      "text/plain": [
       "   gender  income  criminals  diffrace  leftwings  alcoholics  rightwings  \\\n",
       "0       2  900000          0         0          0           0           1   \n",
       "1       1  180000          0         0          0           0           1   \n",
       "2       1  600000          0         0          0           0           0   \n",
       "3       2  180000          1         0          0           1           0   \n",
       "4       2   60000          0         0          0           0           0   \n",
       "\n",
       "   manykids  neurotics  muslims  imigrants  aids  addicts  homoseksuals  jews  \\\n",
       "0         0          0        0          0     0        0             0     0   \n",
       "1         0          1        0          0     0        0             0     0   \n",
       "2         0          0        0          0     0        0             0     0   \n",
       "3         0          0        0          0     0        1             0     0   \n",
       "4         0          0        0          0     0        1             0     0   \n",
       "\n",
       "   gypsies  age  edu  id  \n",
       "0        0   48    4   1  \n",
       "1        0   30    4   2  \n",
       "2        0   57    3   3  \n",
       "3        0   55    0   4  \n",
       "4        0   21    0   5  "
      ]
     },
     "execution_count": 13,
     "metadata": {},
     "output_type": "execute_result"
    }
   ],
   "source": [
    "df.head()"
   ]
  },
  {
   "cell_type": "markdown",
   "metadata": {},
   "source": [
    "## Making sense of the data?\n",
    "\n",
    "Let's play around with the data. I've made a simple groupby to check different aspects of \"manual clustering\". What are you guys able to find? Who wants to live next to whom?"
   ]
  },
  {
   "cell_type": "code",
   "execution_count": 14,
   "metadata": {},
   "outputs": [
    {
     "data": {
      "text/html": [
       "<div>\n",
       "<style scoped>\n",
       "    .dataframe tbody tr th:only-of-type {\n",
       "        vertical-align: middle;\n",
       "    }\n",
       "\n",
       "    .dataframe tbody tr th {\n",
       "        vertical-align: top;\n",
       "    }\n",
       "\n",
       "    .dataframe thead th {\n",
       "        text-align: right;\n",
       "    }\n",
       "</style>\n",
       "<table border=\"1\" class=\"dataframe\">\n",
       "  <thead>\n",
       "    <tr style=\"text-align: right;\">\n",
       "      <th></th>\n",
       "      <th></th>\n",
       "      <th>income</th>\n",
       "      <th>criminals</th>\n",
       "      <th>diffrace</th>\n",
       "      <th>leftwings</th>\n",
       "      <th>alcoholics</th>\n",
       "      <th>rightwings</th>\n",
       "      <th>manykids</th>\n",
       "      <th>neurotics</th>\n",
       "      <th>muslims</th>\n",
       "      <th>imigrants</th>\n",
       "      <th>aids</th>\n",
       "      <th>addicts</th>\n",
       "      <th>homoseksuals</th>\n",
       "      <th>jews</th>\n",
       "      <th>gypsies</th>\n",
       "      <th>age</th>\n",
       "      <th>id</th>\n",
       "    </tr>\n",
       "    <tr>\n",
       "      <th>edu</th>\n",
       "      <th>gender</th>\n",
       "      <th></th>\n",
       "      <th></th>\n",
       "      <th></th>\n",
       "      <th></th>\n",
       "      <th></th>\n",
       "      <th></th>\n",
       "      <th></th>\n",
       "      <th></th>\n",
       "      <th></th>\n",
       "      <th></th>\n",
       "      <th></th>\n",
       "      <th></th>\n",
       "      <th></th>\n",
       "      <th></th>\n",
       "      <th></th>\n",
       "      <th></th>\n",
       "      <th></th>\n",
       "    </tr>\n",
       "  </thead>\n",
       "  <tbody>\n",
       "    <tr>\n",
       "      <th rowspan=\"2\" valign=\"top\">0</th>\n",
       "      <th>1</th>\n",
       "      <td>312434.343434</td>\n",
       "      <td>0.292929</td>\n",
       "      <td>0.060606</td>\n",
       "      <td>0.070707</td>\n",
       "      <td>0.262626</td>\n",
       "      <td>0.131313</td>\n",
       "      <td>0.010101</td>\n",
       "      <td>0.111111</td>\n",
       "      <td>0.161616</td>\n",
       "      <td>0.121212</td>\n",
       "      <td>0.040404</td>\n",
       "      <td>0.575758</td>\n",
       "      <td>0.131313</td>\n",
       "      <td>0.030303</td>\n",
       "      <td>0.131313</td>\n",
       "      <td>47.242424</td>\n",
       "      <td>443.404040</td>\n",
       "    </tr>\n",
       "    <tr>\n",
       "      <th>2</th>\n",
       "      <td>295356.433071</td>\n",
       "      <td>0.346457</td>\n",
       "      <td>0.094488</td>\n",
       "      <td>0.078740</td>\n",
       "      <td>0.409449</td>\n",
       "      <td>0.157480</td>\n",
       "      <td>0.055118</td>\n",
       "      <td>0.133858</td>\n",
       "      <td>0.251969</td>\n",
       "      <td>0.188976</td>\n",
       "      <td>0.118110</td>\n",
       "      <td>0.606299</td>\n",
       "      <td>0.110236</td>\n",
       "      <td>0.047244</td>\n",
       "      <td>0.212598</td>\n",
       "      <td>51.055118</td>\n",
       "      <td>454.803150</td>\n",
       "    </tr>\n",
       "    <tr>\n",
       "      <th rowspan=\"2\" valign=\"top\">1</th>\n",
       "      <th>1</th>\n",
       "      <td>395940.289941</td>\n",
       "      <td>0.313609</td>\n",
       "      <td>0.112426</td>\n",
       "      <td>0.112426</td>\n",
       "      <td>0.337278</td>\n",
       "      <td>0.165680</td>\n",
       "      <td>0.011834</td>\n",
       "      <td>0.124260</td>\n",
       "      <td>0.278107</td>\n",
       "      <td>0.118343</td>\n",
       "      <td>0.071006</td>\n",
       "      <td>0.568047</td>\n",
       "      <td>0.136095</td>\n",
       "      <td>0.047337</td>\n",
       "      <td>0.207101</td>\n",
       "      <td>47.224852</td>\n",
       "      <td>450.544379</td>\n",
       "    </tr>\n",
       "    <tr>\n",
       "      <th>2</th>\n",
       "      <td>342100.000000</td>\n",
       "      <td>0.320000</td>\n",
       "      <td>0.070000</td>\n",
       "      <td>0.050000</td>\n",
       "      <td>0.310000</td>\n",
       "      <td>0.160000</td>\n",
       "      <td>0.040000</td>\n",
       "      <td>0.120000</td>\n",
       "      <td>0.120000</td>\n",
       "      <td>0.130000</td>\n",
       "      <td>0.020000</td>\n",
       "      <td>0.560000</td>\n",
       "      <td>0.030000</td>\n",
       "      <td>0.000000</td>\n",
       "      <td>0.130000</td>\n",
       "      <td>45.680000</td>\n",
       "      <td>445.410000</td>\n",
       "    </tr>\n",
       "    <tr>\n",
       "      <th rowspan=\"2\" valign=\"top\">2</th>\n",
       "      <th>1</th>\n",
       "      <td>401923.076923</td>\n",
       "      <td>0.269231</td>\n",
       "      <td>0.076923</td>\n",
       "      <td>0.346154</td>\n",
       "      <td>0.423077</td>\n",
       "      <td>0.269231</td>\n",
       "      <td>0.153846</td>\n",
       "      <td>0.269231</td>\n",
       "      <td>0.192308</td>\n",
       "      <td>0.115385</td>\n",
       "      <td>0.038462</td>\n",
       "      <td>0.576923</td>\n",
       "      <td>0.076923</td>\n",
       "      <td>0.000000</td>\n",
       "      <td>0.115385</td>\n",
       "      <td>42.115385</td>\n",
       "      <td>434.807692</td>\n",
       "    </tr>\n",
       "    <tr>\n",
       "      <th>2</th>\n",
       "      <td>366679.245283</td>\n",
       "      <td>0.490566</td>\n",
       "      <td>0.094340</td>\n",
       "      <td>0.037736</td>\n",
       "      <td>0.396226</td>\n",
       "      <td>0.283019</td>\n",
       "      <td>0.037736</td>\n",
       "      <td>0.207547</td>\n",
       "      <td>0.169811</td>\n",
       "      <td>0.132075</td>\n",
       "      <td>0.037736</td>\n",
       "      <td>0.641509</td>\n",
       "      <td>0.037736</td>\n",
       "      <td>0.018868</td>\n",
       "      <td>0.188679</td>\n",
       "      <td>45.000000</td>\n",
       "      <td>488.113208</td>\n",
       "    </tr>\n",
       "    <tr>\n",
       "      <th rowspan=\"2\" valign=\"top\">3</th>\n",
       "      <th>1</th>\n",
       "      <td>425056.603774</td>\n",
       "      <td>0.216981</td>\n",
       "      <td>0.066038</td>\n",
       "      <td>0.113208</td>\n",
       "      <td>0.386792</td>\n",
       "      <td>0.301887</td>\n",
       "      <td>0.056604</td>\n",
       "      <td>0.132075</td>\n",
       "      <td>0.122642</td>\n",
       "      <td>0.056604</td>\n",
       "      <td>0.028302</td>\n",
       "      <td>0.594340</td>\n",
       "      <td>0.037736</td>\n",
       "      <td>0.018868</td>\n",
       "      <td>0.103774</td>\n",
       "      <td>44.698113</td>\n",
       "      <td>475.150943</td>\n",
       "    </tr>\n",
       "    <tr>\n",
       "      <th>2</th>\n",
       "      <td>466536.742424</td>\n",
       "      <td>0.280303</td>\n",
       "      <td>0.022727</td>\n",
       "      <td>0.075758</td>\n",
       "      <td>0.340909</td>\n",
       "      <td>0.234848</td>\n",
       "      <td>0.030303</td>\n",
       "      <td>0.159091</td>\n",
       "      <td>0.053030</td>\n",
       "      <td>0.053030</td>\n",
       "      <td>0.030303</td>\n",
       "      <td>0.598485</td>\n",
       "      <td>0.015152</td>\n",
       "      <td>0.000000</td>\n",
       "      <td>0.113636</td>\n",
       "      <td>41.545455</td>\n",
       "      <td>438.598485</td>\n",
       "    </tr>\n",
       "    <tr>\n",
       "      <th rowspan=\"2\" valign=\"top\">4</th>\n",
       "      <th>1</th>\n",
       "      <td>452495.918367</td>\n",
       "      <td>0.326531</td>\n",
       "      <td>0.040816</td>\n",
       "      <td>0.102041</td>\n",
       "      <td>0.469388</td>\n",
       "      <td>0.367347</td>\n",
       "      <td>0.061224</td>\n",
       "      <td>0.183673</td>\n",
       "      <td>0.040816</td>\n",
       "      <td>0.040816</td>\n",
       "      <td>0.102041</td>\n",
       "      <td>0.612245</td>\n",
       "      <td>0.102041</td>\n",
       "      <td>0.020408</td>\n",
       "      <td>0.102041</td>\n",
       "      <td>42.877551</td>\n",
       "      <td>469.938776</td>\n",
       "    </tr>\n",
       "    <tr>\n",
       "      <th>2</th>\n",
       "      <td>470897.435897</td>\n",
       "      <td>0.153846</td>\n",
       "      <td>0.000000</td>\n",
       "      <td>0.051282</td>\n",
       "      <td>0.384615</td>\n",
       "      <td>0.256410</td>\n",
       "      <td>0.025641</td>\n",
       "      <td>0.128205</td>\n",
       "      <td>0.000000</td>\n",
       "      <td>0.000000</td>\n",
       "      <td>0.025641</td>\n",
       "      <td>0.666667</td>\n",
       "      <td>0.000000</td>\n",
       "      <td>0.000000</td>\n",
       "      <td>0.076923</td>\n",
       "      <td>38.666667</td>\n",
       "      <td>375.564103</td>\n",
       "    </tr>\n",
       "  </tbody>\n",
       "</table>\n",
       "</div>"
      ],
      "text/plain": [
       "                   income  criminals  diffrace  leftwings  alcoholics  \\\n",
       "edu gender                                                              \n",
       "0   1       312434.343434   0.292929  0.060606   0.070707    0.262626   \n",
       "    2       295356.433071   0.346457  0.094488   0.078740    0.409449   \n",
       "1   1       395940.289941   0.313609  0.112426   0.112426    0.337278   \n",
       "    2       342100.000000   0.320000  0.070000   0.050000    0.310000   \n",
       "2   1       401923.076923   0.269231  0.076923   0.346154    0.423077   \n",
       "    2       366679.245283   0.490566  0.094340   0.037736    0.396226   \n",
       "3   1       425056.603774   0.216981  0.066038   0.113208    0.386792   \n",
       "    2       466536.742424   0.280303  0.022727   0.075758    0.340909   \n",
       "4   1       452495.918367   0.326531  0.040816   0.102041    0.469388   \n",
       "    2       470897.435897   0.153846  0.000000   0.051282    0.384615   \n",
       "\n",
       "            rightwings  manykids  neurotics   muslims  imigrants      aids  \\\n",
       "edu gender                                                                   \n",
       "0   1         0.131313  0.010101   0.111111  0.161616   0.121212  0.040404   \n",
       "    2         0.157480  0.055118   0.133858  0.251969   0.188976  0.118110   \n",
       "1   1         0.165680  0.011834   0.124260  0.278107   0.118343  0.071006   \n",
       "    2         0.160000  0.040000   0.120000  0.120000   0.130000  0.020000   \n",
       "2   1         0.269231  0.153846   0.269231  0.192308   0.115385  0.038462   \n",
       "    2         0.283019  0.037736   0.207547  0.169811   0.132075  0.037736   \n",
       "3   1         0.301887  0.056604   0.132075  0.122642   0.056604  0.028302   \n",
       "    2         0.234848  0.030303   0.159091  0.053030   0.053030  0.030303   \n",
       "4   1         0.367347  0.061224   0.183673  0.040816   0.040816  0.102041   \n",
       "    2         0.256410  0.025641   0.128205  0.000000   0.000000  0.025641   \n",
       "\n",
       "             addicts  homoseksuals      jews   gypsies        age          id  \n",
       "edu gender                                                                     \n",
       "0   1       0.575758      0.131313  0.030303  0.131313  47.242424  443.404040  \n",
       "    2       0.606299      0.110236  0.047244  0.212598  51.055118  454.803150  \n",
       "1   1       0.568047      0.136095  0.047337  0.207101  47.224852  450.544379  \n",
       "    2       0.560000      0.030000  0.000000  0.130000  45.680000  445.410000  \n",
       "2   1       0.576923      0.076923  0.000000  0.115385  42.115385  434.807692  \n",
       "    2       0.641509      0.037736  0.018868  0.188679  45.000000  488.113208  \n",
       "3   1       0.594340      0.037736  0.018868  0.103774  44.698113  475.150943  \n",
       "    2       0.598485      0.015152  0.000000  0.113636  41.545455  438.598485  \n",
       "4   1       0.612245      0.102041  0.020408  0.102041  42.877551  469.938776  \n",
       "    2       0.666667      0.000000  0.000000  0.076923  38.666667  375.564103  "
      ]
     },
     "execution_count": 14,
     "metadata": {},
     "output_type": "execute_result"
    }
   ],
   "source": [
    "df.groupby([\"edu\", \"gender\"]).mean()"
   ]
  },
  {
   "cell_type": "markdown",
   "metadata": {},
   "source": [
    "\n",
    "\n",
    "# Let's be more scientific\n",
    "\n",
    "\n",
    "We know there is a difference; how do we find it without even looking?"
   ]
  },
  {
   "cell_type": "markdown",
   "metadata": {},
   "source": [
    "Before we go nuts, we need to consider two things;\n",
    "\n",
    "<h2><center>Distance</center></h2>\n",
    "<h2><center>Merging rule</center></h2>"
   ]
  },
  {
   "cell_type": "markdown",
   "metadata": {},
   "source": [
    "Distance is, in it's core, pretty simple; how far are there between peoples answers?\n",
    "\n",
    "A survey-question could be: \"On a scale from 1 to 5, how much do you like Strawberry icecream\"\n",
    "\n",
    "Asnswers:\n",
    "\n",
    "|Person  |Strawberry icecream|\n",
    "|--------|---------|\n",
    "|Person 1|4        |\n",
    "|Person 2|5        |\n",
    "\n",
    "Distance between the people? 1!\n",
    "\n",
    "Let's add more people.\n",
    "\n",
    "|Person  |Strawberry icecream|\n",
    "|--------|---------|\n",
    "|Person 1|4        |\n",
    "|Person 2|5        |\n",
    "|Person 3|2        |\n",
    "\n",
    "And more questions:\n",
    "\n",
    "|Person  |Strawberry icecream|Chocolate icecream|\n",
    "|--------|---------|-----------|\n",
    "|Person 1|4        |4          |\n",
    "|Person 2|5        |3          |\n",
    "|Person 3|2        |5          |\n"
   ]
  },
  {
   "cell_type": "markdown",
   "metadata": {},
   "source": [
    "It becomes tricky when adding more information:\n",
    "\n",
    "![matrix](https://people.revoledu.com/kardi/tutorial/Clustering/image/Numerical%20Example_clip_image004.jpg)\n",
    "\n",
    "With two questions we get:\n",
    "\n",
    "![multimatrix](https://i.stack.imgur.com/EQOra.png)\n",
    "\n",
    "Adding more people and more questions/data makes it so that our brain begins to melt - we are no longer able to understand each distance and we cannot make sense of it by just looking.\n",
    "\n",
    "The distance I describe above is what is know as Euclidian distance:\n"
   ]
  },
  {
   "cell_type": "markdown",
   "metadata": {},
   "source": [
    "![distance](https://wikimedia.org/api/rest_v1/media/math/render/svg/795b967db2917cdde7c2da2d1ee327eb673276c0)"
   ]
  },
  {
   "cell_type": "markdown",
   "metadata": {},
   "source": [
    "Euclidian distance is what we would call birds flight distance - it's the direct path between two points.\n",
    "\n",
    "The most used distance measures is Euclidian and $Euclidian^2$. The only difference between the two is; if distance is, as mentioned, 4 og 5 (1) the result is $1^2=1$ while the distance between 2 and 5 becomes $3^2=9$"
   ]
  },
  {
   "cell_type": "markdown",
   "metadata": {},
   "source": [
    "## Think for 5 minutes:\n",
    "\n",
    "* What is the difference between using $L$ and $L^2$ in a real life example?\n",
    "* Why would one use $L^2$ and when?\n",
    "\n",
    "\n",
    "\n",
    "# Short about different types of clustering algorithms\n",
    "\n",
    "Two types:\n",
    "* Hierarchical\n",
    "* Non-Hierarchical\n",
    "\n",
    "![hier](https://new.pharmacelera.com/wp-content/uploads/2019/08/clusters-1024x530.png)\n",
    "\n",
    "We dislike non-hierarchical - why?\n",
    "\n",
    "How do we create the clusters?\n",
    "\n",
    "* Divisive\n",
    "* Agglomerative\n",
    "\n",
    "![divagg](https://cdn.educba.com/academy/wp-content/uploads/2019/11/Hierarchical-Clustering-Analysis.png)\n",
    "\n",
    "What's the diff? One splits and one merges."
   ]
  },
  {
   "cell_type": "markdown",
   "metadata": {},
   "source": [
    "# Merging rule\n",
    "\n",
    "How the clustering happens is defined by the merging rule, and there are a lot! From the most basic K-means to the more fancy Ward's - but why should we care?\n",
    "\n",
    "![linkage](https://drek4537l1klr.cloudfront.net/rhys/v-7/Figures/CH17_FIG_3_MLR.png)"
   ]
  },
  {
   "cell_type": "markdown",
   "metadata": {},
   "source": [
    "# What's the time?\n",
    "![hammer](https://memegenerator.net/img/instances/42340727/stop-big-data-time.jpg)\n",
    "\n",
    "\n",
    "\n",
    "\n",
    "I create to seperate dataframes with identical data - this is not what we normally do, I just want to show you different things we can do and this makes it so that you remember that they are the same.\n",
    "\n",
    "I create \"linked\" as a frame to hold information about how Wards method will prefer clustering to make a fancy dendrogram:"
   ]
  },
  {
   "cell_type": "code",
   "execution_count": 15,
   "metadata": {},
   "outputs": [],
   "source": [
    "X = df[['criminals', 'diffrace', 'leftwings', 'alcoholics', 'rightwings', 'manykids', 'neurotics', 'muslims', 'imigrants', 'aids', 'addicts', 'homoseksuals', 'jews', 'gypsies']]\n",
    "X_1 = df[['criminals', 'diffrace', 'leftwings', 'alcoholics', 'rightwings', 'manykids', 'neurotics', 'muslims', 'imigrants', 'aids', 'addicts', 'homoseksuals', 'jews', 'gypsies']]\n",
    "linked = linkage(X, 'ward')"
   ]
  },
  {
   "cell_type": "markdown",
   "metadata": {},
   "source": [
    "When telling python we want to check out clusters using Wards method, we can look at something called a dendrogram"
   ]
  },
  {
   "cell_type": "code",
   "execution_count": 16,
   "metadata": {},
   "outputs": [
    {
     "data": {
      "image/png": "[encoded data removed]",
      "text/plain": [
       "<Figure size 540x360 with 1 Axes>"
      ]
     },
     "metadata": {
      "needs_background": "light"
     },
     "output_type": "display_data"
    }
   ],
   "source": [
    "figure = plt.figure(figsize=(7.5, 5))\n",
    "dendrogram(\n",
    "    linked,\n",
    "    truncate_mode='lastp',\n",
    "    p=20,\n",
    "    leaf_rotation=90.,\n",
    "    leaf_font_size=12.,\n",
    "    show_contracted=True,\n",
    ")\n",
    "plt.title('Hierarchical Clustering Dendrogram (Ward)')\n",
    "plt.xlabel('cluster size)')\n",
    "plt.ylabel('distance')\n",
    "plt.show()"
   ]
  },
  {
   "cell_type": "markdown",
   "metadata": {},
   "source": [
    "So, Ward is helping us (from the grave). But can we make sense of it?"
   ]
  },
  {
   "cell_type": "code",
   "execution_count": 17,
   "metadata": {},
   "outputs": [
    {
     "name": "stdout",
     "output_type": "stream",
     "text": [
      "Cluster count- 2 |  db score- 1.14 |  ch score -  163.87 |  ss score -  0.19\n",
      "Cluster count- 3 |  db score- 1.27 |  ch score -  169.06 |  ss score -  0.22\n",
      "Cluster count- 4 |  db score- 1.7 |  ch score -  151.62 |  ss score -  0.26\n",
      "Cluster count- 5 |  db score- 2.0 |  ch score -  141.16 |  ss score -  0.28\n",
      "Cluster count- 6 |  db score- 2.08 |  ch score -  131.83 |  ss score -  0.31\n",
      "Cluster count- 7 |  db score- 1.91 |  ch score -  124.82 |  ss score -  0.32\n",
      "Cluster count- 8 |  db score- 1.83 |  ch score -  120.28 |  ss score -  0.34\n",
      "Cluster count- 9 |  db score- 1.63 |  ch score -  117.46 |  ss score -  0.35\n",
      "Cluster count- 10 |  db score- 1.59 |  ch score -  113.19 |  ss score -  0.37\n"
     ]
    }
   ],
   "source": [
    "for k in range(2,11):\n",
    "    cluster = AgglomerativeClustering(n_clusters=k, affinity='euclidean', linkage='ward').fit(X)\n",
    "    labels=cluster.labels_\n",
    "    dbs=davies_bouldin_score(X, labels)\n",
    "    dbs=round(dbs,2)\n",
    "    ch = metrics.calinski_harabasz_score(X, labels)\n",
    "    ch=round(ch,2)\n",
    "    ss=metrics.silhouette_score(X, labels, metric='euclidean')\n",
    "    ss=round(ss,2)\n",
    "    print(\"Cluster count-\", k, \"|\", \" db score-\", dbs, \"|\", \" ch score - \", ch, \"|\", \" ss score - \", ss)\n",
    "    k=str(k)\n",
    "    df['cluster'+k]=labels"
   ]
  },
  {
   "cell_type": "markdown",
   "metadata": {},
   "source": [
    "Quick cheat sheet:\n",
    "\n",
    "Davies Bouldin Score → as low as possible\n",
    "\n",
    "Calinski-Harabasz → as high as possible\n",
    "\n",
    "Silhouette-score → is a -1 to +1 thing. 0 is bad while values closer to the edges are better."
   ]
  },
  {
   "cell_type": "markdown",
   "metadata": {},
   "source": [
    "The above code can look a little weird, but the clustering in itself is super easy:"
   ]
  },
  {
   "cell_type": "code",
   "execution_count": 18,
   "metadata": {},
   "outputs": [],
   "source": [
    "cluster = AgglomerativeClustering(n_clusters=5, affinity='euclidean', linkage='ward').fit(X)\n",
    "labels=cluster.labels_\n",
    "df['cluster']=labels"
   ]
  },
  {
   "cell_type": "markdown",
   "metadata": {},
   "source": [
    "If we want to explore a little and not calculate the scores first, we can do something pretty easy in a loop. Remember, this is like talking to Lassie and hoping it is telling us something important!\n",
    "\n",
    "![lassie](https://cdn2.lamag.com/wp-content/uploads/sites/6/2018/07/Lassie_Jon_Provost_1961-1068x689.jpg)"
   ]
  },
  {
   "cell_type": "code",
   "execution_count": 19,
   "metadata": {},
   "outputs": [
    {
     "name": "stdout",
     "output_type": "stream",
     "text": [
      "\n",
      "\n",
      "... and the results for 2 clusters are!\n",
      "cluster2              0          1\n",
      "criminals          0.41       0.00\n",
      "diffrace           0.09       0.00\n",
      "leftwings          0.12       0.00\n",
      "alcoholics         0.48       0.00\n",
      "rightwings         0.29       0.00\n",
      "manykids           0.05       0.00\n",
      "neurotics          0.19       0.00\n",
      "muslims            0.22       0.00\n",
      "imigrants          0.14       0.00\n",
      "aids               0.07       0.00\n",
      "addicts            0.80       0.00\n",
      "homoseksuals       0.10       0.00\n",
      "jews               0.03       0.00\n",
      "gypsies            0.20       0.00\n",
      "age               44.66      48.15\n",
      "income        386855.31  380311.02\n",
      "edu                1.68       1.60\n",
      "\n",
      "And the size of the clusters if there are 2 clusters are\n",
      "cluster2\n",
      "0    664\n",
      "1    236\n",
      "Name: id, dtype: int64\n",
      "\n",
      "And if we have 2 clusters, the dendrogram looks like\n"
     ]
    },
    {
     "data": {
      "image/png": "[encoded data removed]",
      "text/plain": [
       "<Figure size 540x360 with 1 Axes>"
      ]
     },
     "metadata": {
      "needs_background": "light"
     },
     "output_type": "display_data"
    },
    {
     "name": "stdout",
     "output_type": "stream",
     "text": [
      "\n",
      "\n",
      "... and the results for 3 clusters are!\n",
      "cluster3              0          1          2\n",
      "criminals          0.37       0.00       0.90\n",
      "diffrace           0.03       0.00       0.94\n",
      "leftwings          0.09       0.00       0.56\n",
      "alcoholics         0.45       0.00       0.90\n",
      "rightwings         0.28       0.00       0.42\n",
      "manykids           0.03       0.00       0.33\n",
      "neurotics          0.17       0.00       0.50\n",
      "muslims            0.16       0.00       0.98\n",
      "imigrants          0.08       0.00       0.96\n",
      "aids               0.05       0.00       0.38\n",
      "addicts            0.79       0.00       0.96\n",
      "homoseksuals       0.07       0.00       0.48\n",
      "jews               0.01       0.00       0.27\n",
      "gypsies            0.16       0.00       0.81\n",
      "age               43.76      48.15      56.21\n",
      "income        394456.21  380311.02  289310.42\n",
      "edu                1.71       1.60       1.35\n",
      "\n",
      "And the size of the clusters if there are 3 clusters are\n",
      "cluster3\n",
      "0    616\n",
      "1    236\n",
      "2     48\n",
      "Name: id, dtype: int64\n",
      "\n",
      "And if we have 3 clusters, the dendrogram looks like\n"
     ]
    },
    {
     "data": {
      "image/png": "[encoded data removed]",
      "text/plain": [
       "<Figure size 540x360 with 1 Axes>"
      ]
     },
     "metadata": {
      "needs_background": "light"
     },
     "output_type": "display_data"
    },
    {
     "name": "stdout",
     "output_type": "stream",
     "text": [
      "\n",
      "\n",
      "... and the results for 4 clusters are!\n",
      "cluster4              0          1          2          3\n",
      "criminals          0.41       0.23       0.90       0.00\n",
      "diffrace           0.04       0.00       0.94       0.00\n",
      "leftwings          0.04       0.26       0.56       0.00\n",
      "alcoholics         0.50       0.28       0.90       0.00\n",
      "rightwings         0.11       0.94       0.42       0.00\n",
      "manykids           0.03       0.02       0.33       0.00\n",
      "neurotics          0.21       0.00       0.50       0.00\n",
      "muslims            0.19       0.02       0.98       0.00\n",
      "imigrants          0.09       0.02       0.96       0.00\n",
      "aids               0.06       0.00       0.38       0.00\n",
      "addicts            0.82       0.69       0.96       0.00\n",
      "homoseksuals       0.09       0.00       0.48       0.00\n",
      "jews               0.02       0.00       0.27       0.00\n",
      "gypsies            0.18       0.05       0.81       0.00\n",
      "age               44.56      40.66      56.21      48.15\n",
      "income        393295.37  399016.00  289310.42  380311.02\n",
      "edu                1.61       2.09       1.35       1.60\n",
      "\n",
      "And the size of the clusters if there are 4 clusters are\n",
      "cluster4\n",
      "0    491\n",
      "1    125\n",
      "2     48\n",
      "3    236\n",
      "Name: id, dtype: int64\n",
      "\n",
      "And if we have 4 clusters, the dendrogram looks like\n"
     ]
    },
    {
     "data": {
      "image/png": "[encoded data removed]",
      "text/plain": [
       "<Figure size 540x360 with 1 Axes>"
      ]
     },
     "metadata": {
      "needs_background": "light"
     },
     "output_type": "display_data"
    },
    {
     "name": "stdout",
     "output_type": "stream",
     "text": [
      "\n",
      "\n",
      "... and the results for 5 clusters are!\n",
      "cluster5              0          1          2          3          4\n",
      "criminals          0.25       0.87       0.90       0.00       0.23\n",
      "diffrace           0.04       0.03       0.94       0.00       0.00\n",
      "leftwings          0.03       0.09       0.56       0.00       0.26\n",
      "alcoholics         0.37       0.86       0.90       0.00       0.28\n",
      "rightwings         0.11       0.09       0.42       0.00       0.94\n",
      "manykids           0.03       0.02       0.33       0.00       0.02\n",
      "neurotics          0.18       0.29       0.50       0.00       0.00\n",
      "muslims            0.15       0.30       0.98       0.00       0.02\n",
      "imigrants          0.09       0.11       0.96       0.00       0.02\n",
      "aids               0.02       0.18       0.38       0.00       0.00\n",
      "addicts            0.76       0.97       0.96       0.00       0.69\n",
      "homoseksuals       0.03       0.27       0.48       0.00       0.00\n",
      "jews               0.02       0.02       0.27       0.00       0.00\n",
      "gypsies            0.19       0.17       0.81       0.00       0.05\n",
      "age               43.21      48.38      56.21      48.15      40.66\n",
      "income        397316.74  381891.02  289310.42  380311.02  399016.00\n",
      "edu                1.67       1.44       1.35       1.60       2.09\n",
      "\n",
      "And the size of the clusters if there are 5 clusters are\n",
      "cluster5\n",
      "0    363\n",
      "1    128\n",
      "2     48\n",
      "3    236\n",
      "4    125\n",
      "Name: id, dtype: int64\n",
      "\n",
      "And if we have 5 clusters, the dendrogram looks like\n"
     ]
    },
    {
     "data": {
      "image/png": "[encoded data removed]",
      "text/plain": [
       "<Figure size 540x360 with 1 Axes>"
      ]
     },
     "metadata": {
      "needs_background": "light"
     },
     "output_type": "display_data"
    }
   ],
   "source": [
    "for i in range(2,6):\n",
    "    i=str(i)\n",
    "    X_1=df[['cluster'+i,'criminals', 'diffrace', 'leftwings', 'alcoholics', 'rightwings', 'manykids', 'neurotics', 'muslims', 'imigrants', 'aids', 'addicts', 'homoseksuals', 'jews', 'gypsies', 'age', 'income', 'edu']]\n",
    "    stuff=X_1.groupby(['cluster'+i]).mean()\n",
    "    trans_stuff=stuff.T\n",
    "    ts=round(trans_stuff,2)\n",
    "    print(\"\")\n",
    "    print(\"\")\n",
    "    print('... and the results for' ,i, 'clusters are!')\t\n",
    "    print(ts)\n",
    "    print(\"\")\n",
    "    count=df.groupby(['cluster'+i])['id'].count()\n",
    "    print(\"And the size of the clusters if there are\",i, \"clusters are\")\n",
    "    print(count)\n",
    "    print(\"\")\n",
    "    print(\"And if we have\",i,\"clusters, the dendrogram looks like\")\n",
    "    i=int(i)\n",
    "    figure = plt.figure(figsize=(7.5, 5))\n",
    "    dendrogram(\n",
    "            linked,\n",
    "        truncate_mode='lastp',  # show only the last p merged clusters\n",
    "        p=i,  # show only the last p merged clusters\n",
    "        leaf_rotation=90.,\n",
    "        leaf_font_size=12.,\n",
    "        show_contracted=True,  # to get a distribution impression in truncated branches\n",
    "    )\n",
    "    plt.title('Hierarchical Clustering Dendrogram (Ward)')\n",
    "    plt.xlabel('sample index or (cluster size)')\n",
    "    plt.ylabel('distance')\n",
    "    plt.show()"
   ]
  },
  {
   "cell_type": "markdown",
   "metadata": {},
   "source": [
    "# You get to play!\n",
    "\n",
    "I have created a larger set of variables from the Danish Value Study from 1999. You can find data here:\n",
    "\n",
    "https://raw.githubusercontent.com/CALDISS-AAU/sdsphd20/master/datasets/value99.csv\n",
    "\n",
    "In all examples, values towards 1 is agree a lot and values towards 5 is disagree a lot.\n",
    "\n",
    "As an example: \"Does not want alchoholics as neighbors\" --> 1=does not want, 2=doesnt care\n",
    "\n",
    "Or: Trust to the military --> 1=Trust very much, 2= Trust some, 3=Trust a little 4=Does not trust at all "
   ]
  },
  {
   "cell_type": "markdown",
   "metadata": {},
   "source": [
    "[![2hAEhX.md.png](https://iili.io/2hAEhX.md.png)](https://freeimage.host/i/2hAEhX)"
   ]
  },
  {
   "cell_type": "markdown",
   "metadata": {},
   "source": [
    "Pick some varibles you think is interesting and play with creating clusters. Can we explain what is going on?"
   ]
  }
 ],
 "metadata": {
  "kernelspec": {
   "display_name": "Python 3",
   "language": "python",
   "name": "python3"
  },
  "language_info": {
   "codemirror_mode": {
    "name": "ipython",
    "version": 3
   },
   "file_extension": ".py",
   "mimetype": "text/x-python",
   "name": "python",
   "nbconvert_exporter": "python",
   "pygments_lexer": "ipython3",
   "version": "3.6.10"
  }
 },
 "nbformat": 4,
 "nbformat_minor": 4
}
