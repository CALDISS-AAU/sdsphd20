{
 "cells": [
  {
   "cell_type": "markdown",
   "metadata": {
    "slideshow": {
     "slide_type": "slide"
    }
   },
   "source": [
    "#  An introduction to Python and Data Science"
   ]
  },
  {
   "cell_type": "markdown",
   "metadata": {
    "slideshow": {
     "slide_type": "subslide"
    }
   },
   "source": [
    "## Outline\n",
    "\n",
    "See [course homepage](https://caldiss-aau.github.io/sdsphd20/sessions/mon23_intro-python/)"
   ]
  },
  {
   "cell_type": "markdown",
   "metadata": {
    "slideshow": {
     "slide_type": "subslide"
    }
   },
   "source": [
    "# Why Python?\n",
    "1. General purpose language - add what you need\n",
    "2. Portable (Linux, Windows, Mac)\n",
    "3. Interactive\n",
    "4. Free\n",
    "5. Community and eco-system\n",
    "6. Easy to use"
   ]
  },
  {
   "cell_type": "markdown",
   "metadata": {
    "slideshow": {
     "slide_type": "subslide"
    }
   },
   "source": [
    "# Working with Python\n",
    "* Workflows - many - find your own! In this course - Jupyter notebook and Pandas:\n",
    "  * Python + Jupyter notebook + Pandas = A complete environment\n",
    "  * Interactive\n",
    "  * Encourage an iterative work process (research?)\n",
    "  * Documentation, code and visualization in one - literate programming\n",
    "  * Reproducing results and figures\n",
    "* Obtain this material from [here](https://caldiss-aau.github.io/sdsphd20/sessions/#an-introduction-to-python-and-data-science-contenthahahugoshortcode-s1-hbhb)"
   ]
  },
  {
   "cell_type": "markdown",
   "metadata": {
    "slideshow": {
     "slide_type": "subslide"
    }
   },
   "source": [
    "## Visualization with Python\n",
    "* Old school: Matplotlib\n",
    "* New alternatives and overlays:\n",
    "  * Plotting from Pandas\n",
    "  * [Seaborn](https://seaborn.pydata.org/)\n",
    "  * [Bokeh](https://bokeh.pydata.org/en/latest/)\n",
    "  * [Plotly](https://plot.ly/)\n",
    "  * [Plotnine](https://plotnine.readthedocs.io/en/stable/) (grammar of graphics)\n",
    "* Today we will manly cover matplotlib and seaborn"
   ]
  },
  {
   "cell_type": "markdown",
   "metadata": {
    "slideshow": {
     "slide_type": "subslide"
    }
   },
   "source": [
    "# A carpentry approach\n",
    "1. Obtain the fundamental skills needed to conduct your work\n",
    "  * Learning a trade\n",
    "  * Take pride in what you produce $\\leftrightarrow$ produce quality\n",
    "  * Adapt best practice\n",
    "  * Being efficient\n",
    "2. Also an organization: https://carpentries.org/"
   ]
  },
  {
   "cell_type": "markdown",
   "metadata": {
    "slideshow": {
     "slide_type": "subslide"
    }
   },
   "source": [
    "# Learning objectives\n",
    "After this course you will have\n",
    "1. A basic understanding of the Python language and ability to perform simple tasks\n",
    "2. A working knowledge for data analysis using Pandas\n",
    "3. A working knowledge for data visualization of Pandas DataFrames\n",
    "\n"
   ]
  },
  {
   "cell_type": "markdown",
   "metadata": {
    "slideshow": {
     "slide_type": "subslide"
    }
   },
   "source": [
    "# Learning methods\n",
    "\n",
    "* Lecture - but work out the examples on your own laptap - (live-coding)\n",
    "* Small exercises - individual or in small groups\n"
   ]
  },
  {
   "cell_type": "markdown",
   "metadata": {
    "slideshow": {
     "slide_type": "subslide"
    }
   },
   "source": [
    "# Classroom rules\n",
    "During lectures:\n",
    "* *Try everything out yourself*\n",
    "* *Get help in the chat:* \n",
    "\n",
    "When in break-out:\n",
    "* *Discuss with your fellow participants*\n",
    "* *Help each other*\n",
    "  "
   ]
  }
 ],
 "metadata": {
  "celltoolbar": "Slideshow",
  "kernelspec": {
   "display_name": "Python 3",
   "language": "python",
   "name": "python3"
  },
  "language_info": {
   "codemirror_mode": {
    "name": "ipython",
    "version": 3
   },
   "file_extension": ".py",
   "mimetype": "text/x-python",
   "name": "python",
   "nbconvert_exporter": "python",
   "pygments_lexer": "ipython3",
   "version": "3.7.4"
  }
 },
 "nbformat": 4,
 "nbformat_minor": 2
}
