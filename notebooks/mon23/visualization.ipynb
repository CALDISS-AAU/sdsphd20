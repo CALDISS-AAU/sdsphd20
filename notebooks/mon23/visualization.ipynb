{
 "cells": [
  {
   "cell_type": "markdown",
   "metadata": {
    "slideshow": {
     "slide_type": "slide"
    }
   },
   "source": [
    "## Visualization\n",
    "Start with the basics\n",
    "- Quantitives\n",
    "- Aestetics"
   ]
  },
  {
   "cell_type": "markdown",
   "metadata": {
    "slideshow": {
     "slide_type": "slide"
    }
   },
   "source": [
    "# Pandas and visualization\n",
    "How to visualize data organized as pandas DataFrame?\n",
    "1. Pandas has Matlab-lookalike plotting package based on matplotlib\n",
    "  * (+) High quality rendering, \n",
    "  * (-) 90'era scientific look and feel as default, limited types of plots"
   ]
  },
  {
   "cell_type": "markdown",
   "metadata": {
    "slideshow": {
     "slide_type": "subslide"
    }
   },
   "source": [
    "2. plotly / seaborn\n",
    "  * (+) Rich in possibilities, less stiff and mature\n",
    "  * (-) Adjusments can be complicated\n",
    "3. plotnine - A Grammar of Graphics for Python\n",
    "  * (+) Rules for forming plots - \"grammar\", less stiff and more modern look and feel\n",
    "  * (-) Not fully matured "
   ]
  },
  {
   "cell_type": "markdown",
   "metadata": {
    "slideshow": {
     "slide_type": "subslide"
    }
   },
   "source": [
    "4. Do it manually (on paper or a drawing program (computer)).\n",
    "    * (+) Only limited by you drawing abilities\n",
    "    * (-) Too many possibilities may make us *too* creative\n",
    "    \n",
    "Using plotting tools for publication quality products often requires time-consuming hand-tweaking.\n",
    "\n",
    "And remember: we should not go for \"Isn't it remarkable that the computer can be programmed to draw like that?\" but \"My, what interesting data.\" (Tufte, 1983)"
   ]
  },
  {
   "cell_type": "markdown",
   "metadata": {},
   "source": [
    "## [Seaborn](https://seaborn.pydata.org/)\n",
    "* Build on top of Matplotlib - high level interface.\n",
    "* More appealing aestics\n",
    "* Less manual adjustments compared to Matplotlib\n",
    "  * But adjustments are still with Matplotlib - Google is your friend"
   ]
  },
  {
   "cell_type": "code",
   "execution_count": null,
   "metadata": {
    "slideshow": {
     "slide_type": "subslide"
    }
   },
   "outputs": [],
   "source": [
    "import seaborn as sns"
   ]
  },
  {
   "cell_type": "code",
   "execution_count": null,
   "metadata": {},
   "outputs": [],
   "source": [
    "import pandas as pd\n",
    "import numpy as np\n",
    "import matplotlib.pyplot as plt"
   ]
  },
  {
   "cell_type": "code",
   "execution_count": null,
   "metadata": {},
   "outputs": [],
   "source": [
    "# Load the example iris dataset\n",
    "diamonds = sns.load_dataset(\"diamonds\")\n",
    "\n",
    "clarity_ranking = [\"I1\", \"SI2\", \"SI1\", \"VS2\", \"VS1\", \"VVS2\", \"VVS1\", \"IF\"]\n",
    "ax = sns.scatterplot(x=\"carat\", y=\"price\",\n",
    "                hue=\"clarity\",\n",
    "                #style='clarity', #redundant encoding\n",
    "                hue_order=clarity_ranking,\n",
    "                linewidth=0, # remove white edge\n",
    "                data=diamonds)\n",
    "#ax.set(xlabel='Carat', ylabel='Price')\n",
    "plt.xlabel('Carat')\n",
    "plt.ylabel('Price')"
   ]
  },
  {
   "cell_type": "code",
   "execution_count": null,
   "metadata": {},
   "outputs": [],
   "source": [
    "manual_colors = {'red', 'green', 'blue', 'yellow', 'black', 'cyan', 'orange', 'brown'}"
   ]
  },
  {
   "cell_type": "code",
   "execution_count": null,
   "metadata": {},
   "outputs": [],
   "source": [
    "# with scatterplot\n",
    "ax = plt.subplot()\n",
    "for clarity, color in zip(clarity_ranking, manual_colors):\n",
    "    I = diamonds['clarity'] == clarity\n",
    "    ax.scatter(x=diamonds['carat'][I], y=diamonds['price'][I], c=color)\n",
    "\n",
    "plt.xlabel('Carat')\n",
    "plt.ylabel('Price')\n",
    "plt.legend(clarity_ranking)"
   ]
  },
  {
   "cell_type": "markdown",
   "metadata": {},
   "source": [
    "* What do we like/dislike?\n",
    "  * Ugly?\n",
    "  * Bad?\n",
    "  * Wrong?\n",
    "* Entering an iterative process"
   ]
  },
  {
   "cell_type": "code",
   "execution_count": null,
   "metadata": {},
   "outputs": [],
   "source": [
    "accent = plt.get_cmap('Accent').colors\n",
    "ax = plt.subplot()\n",
    "for clarity, color in zip(clarity_ranking, accent):\n",
    "    I = diamonds['clarity'] == clarity\n",
    "    ax.scatter(x=diamonds['carat'][I], y=diamonds['price'][I], c=(color,))\n",
    "\n",
    "plt.xlabel('Carat')\n",
    "plt.ylabel('Price')\n",
    "plt.legend(clarity_ranking)"
   ]
  },
  {
   "cell_type": "code",
   "execution_count": null,
   "metadata": {},
   "outputs": [],
   "source": [
    "fig, ax = plt.subplots()\n",
    "cc = dict(zip(clarity_ranking, range(len(clarity_ranking))))\n",
    "scatter = ax.scatter(x=diamonds['carat'], y=diamonds['price'], c=diamonds['clarity'].map(cc) , cmap='Accent')\n",
    "\n",
    "plt.xlabel('Carat')\n",
    "plt.ylabel('Price')\n",
    "plt.legend(scatter.legend_elements()[0], clarity_ranking, loc=\"lower right\", title=\"Clarity\")"
   ]
  },
  {
   "cell_type": "code",
   "execution_count": null,
   "metadata": {},
   "outputs": [],
   "source": [
    "# histogram/density and kernel density estimate\n",
    "sns.distplot(diamonds['price'], kde=False)"
   ]
  },
  {
   "cell_type": "code",
   "execution_count": null,
   "metadata": {},
   "outputs": [],
   "source": [
    "bins = plt.hist(diamonds['price'], bins=40, color='lightblue')"
   ]
  },
  {
   "cell_type": "markdown",
   "metadata": {
    "slideshow": {
     "slide_type": "slide"
    }
   },
   "source": [
    "## Working with data from Danmarks Statistik\n",
    "- Education - parents/children relation\n",
    "- Getting data from DST API\n",
    "  * Selecting year=2019\n",
    "  * Only selecting cumulated values (in total, and not per age)"
   ]
  },
  {
   "cell_type": "code",
   "execution_count": null,
   "metadata": {
    "slideshow": {
     "slide_type": "subslide"
    }
   },
   "outputs": [],
   "source": [
    "import requests\n",
    "url = 'https://api.statbank.dk/v1/tableinfo'\n",
    "params = {\"lang\": \"en\", \"table\": \"STATUS46\", \"format\": \"JSON\"}\n",
    "resp = requests.post(url, data=params)\n",
    "j = resp.json()\n",
    "\n",
    "dataparams = {\"lang\": \"en\", \"table\": \"STATUS46\", \"format\": \"JSONSTAT\",\n",
    "       \"valuePresentation\": \"Value\",\n",
    "       \"variables\": [\n",
    "          {\"code\": \"Tid\", \"values\": [\"2019\"]},\n",
    "          {\"code\": \"STATUSVID\", \"values\": [\"*\"]},\n",
    "          {\"code\": \"FORBESK\", \"values\": [\"*\"]},\n",
    "          {\"code\": \"ALDER\", \"values\": [\"IALT\"]}\n",
    "       ]\n",
    "}\n",
    "\n",
    "urldata = 'https://api.statbank.dk/v1/data'\n",
    "resp = requests.post(urldata, json=dataparams)\n",
    "jdata = resp.json()"
   ]
  },
  {
   "cell_type": "code",
   "execution_count": null,
   "metadata": {},
   "outputs": [],
   "source": [
    "!pip install pyjstat\n",
    "from pyjstat import pyjstat"
   ]
  },
  {
   "cell_type": "code",
   "execution_count": null,
   "metadata": {},
   "outputs": [],
   "source": [
    "dataset = pyjstat.Dataset.read(resp.text)\n",
    "df = dataset.write('dataframe')"
   ]
  },
  {
   "cell_type": "code",
   "execution_count": null,
   "metadata": {},
   "outputs": [],
   "source": [
    "df"
   ]
  },
  {
   "cell_type": "code",
   "execution_count": null,
   "metadata": {},
   "outputs": [],
   "source": [
    "#remove total\n",
    "df = df[df['status for higher education'] != 'TOTAL']\n",
    "df = df[df['parents employment status'] != 'TOTAL']"
   ]
  },
  {
   "cell_type": "code",
   "execution_count": null,
   "metadata": {
    "slideshow": {
     "slide_type": "subslide"
    }
   },
   "outputs": [],
   "source": [
    "sns.barplot(x=df['parents employment status'], y=df['value'], hue=df['status for higher education'])"
   ]
  },
  {
   "cell_type": "markdown",
   "metadata": {},
   "source": [
    "* What do we like/dislike?\n",
    "  * Ugly?\n",
    "  * Bad?\n",
    "  * Wrong?\n",
    "* [The Principle of Propotional Ink](https://callingbullshit.org/tools/tools_proportional_ink.html)\n",
    "* Entering an iterative process"
   ]
  },
  {
   "cell_type": "code",
   "execution_count": null,
   "metadata": {},
   "outputs": [],
   "source": [
    "# 1. Change DataFrame\n",
    "df.columns = df.columns.str.capitalize()\n",
    "df['Status for higher education'] = df['Status for higher education'].str.capitalize()\n",
    "# 1. Plot\n",
    "bar = sns.barplot(x='Parents employment status', y='Value', hue='Status for higher education',\n",
    "           data=df, palette=\"rocket\")\n",
    "# Keep labels but rotate\n",
    "bar.set_xticklabels(bar.get_xticklabels(), rotation=45, horizontalalignment='right')"
   ]
  },
  {
   "cell_type": "code",
   "execution_count": null,
   "metadata": {
    "slideshow": {
     "slide_type": "subslide"
    }
   },
   "outputs": [],
   "source": [
    "# Saving\n",
    "file = 'col_upper_case_status_for_higher_education_2018'\n",
    "bar.get_figure().savefig('{}.jpg'.format(file))\n",
    "bar.get_figure().savefig('{}.pdf'.format(file))\n",
    "bar.get_figure().savefig('{}.png'.format(file))"
   ]
  },
  {
   "cell_type": "markdown",
   "metadata": {},
   "source": [
    "# Visualization and preprocessing of survey data\n",
    "* XML to Pandas DataFrames\n",
    "* Plot with seaborn"
   ]
  },
  {
   "cell_type": "code",
   "execution_count": null,
   "metadata": {},
   "outputs": [],
   "source": [
    "from urllib.request import urlopen\n",
    "import xml.etree.cElementTree as et"
   ]
  },
  {
   "cell_type": "code",
   "execution_count": null,
   "metadata": {},
   "outputs": [],
   "source": [
    "url = 'https://www.b.dk/upload/webred/bmsandbox/opinion_poll/2019/pollofpolls.xml'\n",
    "xml_data = urlopen(url).read()\n",
    "root = et.fromstring(xml_data)"
   ]
  },
  {
   "cell_type": "markdown",
   "metadata": {},
   "source": [
    "## Wide vs. long format\n",
    "- Wide: one row with several observations\n",
    "- Long : one row = one observation\n",
    "- [Tidy data](https://www.jstatsoft.org/index.php/jss/article/view/v059i10/v59i10.pdf)\n",
    "  * Each variable must have its own column.\n",
    "  * Each observation must have its own row.\n",
    "  * Each value must have its own cell."
   ]
  },
  {
   "cell_type": "code",
   "execution_count": null,
   "metadata": {},
   "outputs": [],
   "source": [
    "df = pd.DataFrame(columns=['datetime', 'party', 'percent'])\n",
    "for child in root.iter('poll'):\n",
    "    dt = pd.to_datetime(child.find('datetime').text)\n",
    "    entries = child.find('entries')\n",
    "    for entry in entries:\n",
    "        d = dict()\n",
    "        d['datetime'] = dt\n",
    "        d['party'] = entry.find('party').find('letter').text\n",
    "        d['percent'] = float(entry.find('percent').text)\n",
    "        df = df.append(d, ignore_index=True)\n",
    "df['party'] = df['party'].astype('category')"
   ]
  },
  {
   "cell_type": "code",
   "execution_count": null,
   "metadata": {},
   "outputs": [],
   "source": [
    "df"
   ]
  },
  {
   "cell_type": "code",
   "execution_count": null,
   "metadata": {},
   "outputs": [],
   "source": [
    "p = sns.lineplot(data=df, x='datetime', y='percent', hue='party')\n",
    "p.legend(bbox_to_anchor=(1.05, 1), loc=2, borderaxespad=0.)\n",
    "p.set_xlabel('Time')\n",
    "p.set_ylabel('Percentage [%]')"
   ]
  },
  {
   "cell_type": "markdown",
   "metadata": {
    "slideshow": {
     "slide_type": "subslide"
    }
   },
   "source": [
    "## References\n",
    "[Fundamentals of Data Visualization, Wilke](https://serialmentor.com/dataviz/)\n",
    "\n",
    "Edward R. Tufte, The Visual Display of Quantitive Information, Graphics Press, 1983\n",
    "\n",
    "[The Principle of Propotional Ink, Carl Bergstrom and Jevin West](https://callingbullshit.org/tools/tools_proportional_ink.html)"
   ]
  },
  {
   "cell_type": "code",
   "execution_count": null,
   "metadata": {},
   "outputs": [],
   "source": []
  }
 ],
 "metadata": {
  "celltoolbar": "Slideshow",
  "kernelspec": {
   "display_name": "Python 3",
   "language": "python",
   "name": "python3"
  },
  "language_info": {
   "codemirror_mode": {
    "name": "ipython",
    "version": 3
   },
   "file_extension": ".py",
   "mimetype": "text/x-python",
   "name": "python",
   "nbconvert_exporter": "python",
   "pygments_lexer": "ipython3",
   "version": "3.7.1"
  }
 },
 "nbformat": 4,
 "nbformat_minor": 2
}
