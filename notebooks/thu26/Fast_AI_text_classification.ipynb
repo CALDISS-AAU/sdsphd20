{
  "nbformat": 4,
  "nbformat_minor": 0,
  "metadata": {
    "colab": {
      "name": "Fast AI text classification",
      "provenance": [],
      "collapsed_sections": [],
      "authorship_tag": "ABX9TyNjb9J/3Tund73gPuD8YI1e",
      "include_colab_link": true
    },
    "kernelspec": {
      "name": "python3",
      "display_name": "Python 3"
    },
    "accelerator": "GPU"
  },
  "cells": [
    {
      "cell_type": "markdown",
      "metadata": {
        "id": "view-in-github",
        "colab_type": "text"
      },
      "source": [
        "<a href=\"https://colab.research.google.com/github/CALDISS-AAU/sdsphd20/blob/master/notebooks/thu26/Fast_AI_text_classification.ipynb\" target=\"_parent\"><img src=\"https://colab.research.google.com/assets/colab-badge.svg\" alt=\"Open In Colab\"/></a>"
      ]
    },
    {
      "cell_type": "code",
      "metadata": {
        "id": "HMGBKNqTRcNu"
      },
      "source": [
        "from fastai import *\n",
        "from fastai.text import *\n",
        "import pandas as pd"
      ],
      "execution_count": null,
      "outputs": []
    },
    {
      "cell_type": "code",
      "metadata": {
        "id": "t3-rBov_TJuV"
      },
      "source": [
        "data = pd.read_csv(\"https://github.com/CALDISS-AAU/sdsphd20/raw/master/datasets/imdb.zip\", sep=\"\\t\")"
      ],
      "execution_count": null,
      "outputs": []
    },
    {
      "cell_type": "code",
      "metadata": {
        "id": "_X3mKPJdTZ77"
      },
      "source": [
        "sub_df = data.copy()"
      ],
      "execution_count": null,
      "outputs": []
    },
    {
      "cell_type": "code",
      "metadata": {
        "colab": {
          "base_uri": "https://localhost:8080/",
          "height": 402
        },
        "id": "cuLLtRp6TeLG",
        "outputId": "83819cb8-9bab-4cfd-9a15-34cc897ce0aa"
      },
      "source": [
        "sub_df"
      ],
      "execution_count": null,
      "outputs": [
        {
          "output_type": "execute_result",
          "data": {
            "text/html": [
              "<div>\n",
              "<style scoped>\n",
              "    .dataframe tbody tr th:only-of-type {\n",
              "        vertical-align: middle;\n",
              "    }\n",
              "\n",
              "    .dataframe tbody tr th {\n",
              "        vertical-align: top;\n",
              "    }\n",
              "\n",
              "    .dataframe thead th {\n",
              "        text-align: right;\n",
              "    }\n",
              "</style>\n",
              "<table border=\"1\" class=\"dataframe\">\n",
              "  <thead>\n",
              "    <tr style=\"text-align: right;\">\n",
              "      <th></th>\n",
              "      <th>is_positive</th>\n",
              "      <th>review</th>\n",
              "    </tr>\n",
              "  </thead>\n",
              "  <tbody>\n",
              "    <tr>\n",
              "      <th>0</th>\n",
              "      <td>0</td>\n",
              "      <td>Dreamgirls, despite its fistful of Tony wins i...</td>\n",
              "    </tr>\n",
              "    <tr>\n",
              "      <th>1</th>\n",
              "      <td>0</td>\n",
              "      <td>This show comes up with interesting locations ...</td>\n",
              "    </tr>\n",
              "    <tr>\n",
              "      <th>2</th>\n",
              "      <td>1</td>\n",
              "      <td>I simply love this movie. I also love the Ramo...</td>\n",
              "    </tr>\n",
              "    <tr>\n",
              "      <th>3</th>\n",
              "      <td>0</td>\n",
              "      <td>Spoilers ahead if you want to call them that.....</td>\n",
              "    </tr>\n",
              "    <tr>\n",
              "      <th>4</th>\n",
              "      <td>1</td>\n",
              "      <td>My all-time favorite movie! I have seen many m...</td>\n",
              "    </tr>\n",
              "    <tr>\n",
              "      <th>...</th>\n",
              "      <td>...</td>\n",
              "      <td>...</td>\n",
              "    </tr>\n",
              "    <tr>\n",
              "      <th>24995</th>\n",
              "      <td>1</td>\n",
              "      <td>I am a big fan of the movie, but not for the u...</td>\n",
              "    </tr>\n",
              "    <tr>\n",
              "      <th>24996</th>\n",
              "      <td>0</td>\n",
              "      <td>I'm not going to bother with a plot synopsis s...</td>\n",
              "    </tr>\n",
              "    <tr>\n",
              "      <th>24997</th>\n",
              "      <td>0</td>\n",
              "      <td>This movie . . . I don't know. Why they would ...</td>\n",
              "    </tr>\n",
              "    <tr>\n",
              "      <th>24998</th>\n",
              "      <td>1</td>\n",
              "      <td>Saw this film on DVD yesterday and was gob-sma...</td>\n",
              "    </tr>\n",
              "    <tr>\n",
              "      <th>24999</th>\n",
              "      <td>0</td>\n",
              "      <td>This was a disappointment - none of the nuance...</td>\n",
              "    </tr>\n",
              "  </tbody>\n",
              "</table>\n",
              "<p>25000 rows × 2 columns</p>\n",
              "</div>"
            ],
            "text/plain": [
              "       is_positive                                             review\n",
              "0                0  Dreamgirls, despite its fistful of Tony wins i...\n",
              "1                0  This show comes up with interesting locations ...\n",
              "2                1  I simply love this movie. I also love the Ramo...\n",
              "3                0  Spoilers ahead if you want to call them that.....\n",
              "4                1  My all-time favorite movie! I have seen many m...\n",
              "...            ...                                                ...\n",
              "24995            1  I am a big fan of the movie, but not for the u...\n",
              "24996            0  I'm not going to bother with a plot synopsis s...\n",
              "24997            0  This movie . . . I don't know. Why they would ...\n",
              "24998            1  Saw this film on DVD yesterday and was gob-sma...\n",
              "24999            0  This was a disappointment - none of the nuance...\n",
              "\n",
              "[25000 rows x 2 columns]"
            ]
          },
          "metadata": {
            "tags": []
          },
          "execution_count": 4
        }
      ]
    },
    {
      "cell_type": "code",
      "metadata": {
        "colab": {
          "base_uri": "https://localhost:8080/",
          "height": 195
        },
        "id": "A6PK_pL6Tiy0",
        "outputId": "60988294-fd6b-4ef9-960c-b9322bac20f0"
      },
      "source": [
        "sub_df.rename(columns={'is_positive': 'label' , 'review' : 'text'}, inplace=True)\n",
        "sub_df.head(5)"
      ],
      "execution_count": null,
      "outputs": [
        {
          "output_type": "execute_result",
          "data": {
            "text/html": [
              "<div>\n",
              "<style scoped>\n",
              "    .dataframe tbody tr th:only-of-type {\n",
              "        vertical-align: middle;\n",
              "    }\n",
              "\n",
              "    .dataframe tbody tr th {\n",
              "        vertical-align: top;\n",
              "    }\n",
              "\n",
              "    .dataframe thead th {\n",
              "        text-align: right;\n",
              "    }\n",
              "</style>\n",
              "<table border=\"1\" class=\"dataframe\">\n",
              "  <thead>\n",
              "    <tr style=\"text-align: right;\">\n",
              "      <th></th>\n",
              "      <th>label</th>\n",
              "      <th>text</th>\n",
              "    </tr>\n",
              "  </thead>\n",
              "  <tbody>\n",
              "    <tr>\n",
              "      <th>0</th>\n",
              "      <td>0</td>\n",
              "      <td>Dreamgirls, despite its fistful of Tony wins i...</td>\n",
              "    </tr>\n",
              "    <tr>\n",
              "      <th>1</th>\n",
              "      <td>0</td>\n",
              "      <td>This show comes up with interesting locations ...</td>\n",
              "    </tr>\n",
              "    <tr>\n",
              "      <th>2</th>\n",
              "      <td>1</td>\n",
              "      <td>I simply love this movie. I also love the Ramo...</td>\n",
              "    </tr>\n",
              "    <tr>\n",
              "      <th>3</th>\n",
              "      <td>0</td>\n",
              "      <td>Spoilers ahead if you want to call them that.....</td>\n",
              "    </tr>\n",
              "    <tr>\n",
              "      <th>4</th>\n",
              "      <td>1</td>\n",
              "      <td>My all-time favorite movie! I have seen many m...</td>\n",
              "    </tr>\n",
              "  </tbody>\n",
              "</table>\n",
              "</div>"
            ],
            "text/plain": [
              "   label                                               text\n",
              "0      0  Dreamgirls, despite its fistful of Tony wins i...\n",
              "1      0  This show comes up with interesting locations ...\n",
              "2      1  I simply love this movie. I also love the Ramo...\n",
              "3      0  Spoilers ahead if you want to call them that.....\n",
              "4      1  My all-time favorite movie! I have seen many m..."
            ]
          },
          "metadata": {
            "tags": []
          },
          "execution_count": 5
        }
      ]
    },
    {
      "cell_type": "code",
      "metadata": {
        "id": "YdFJnE30TrYJ"
      },
      "source": [
        "# split data into training validation set\n",
        "from sklearn.model_selection import train_test_split\n",
        "\n",
        "sub_df_trn, sub_df_val = train_test_split(sub_df, stratify = sub_df['label'], test_size = 0.4, random_state = 12)"
      ],
      "execution_count": null,
      "outputs": []
    },
    {
      "cell_type": "code",
      "metadata": {
        "colab": {
          "base_uri": "https://localhost:8080/"
        },
        "id": "0tWi2vDwTyJG",
        "outputId": "0779bba8-421d-4169-8d61-777b333693be"
      },
      "source": [
        "sub_df_trn.shape, sub_df_val.shape\n"
      ],
      "execution_count": null,
      "outputs": [
        {
          "output_type": "execute_result",
          "data": {
            "text/plain": [
              "((15000, 2), (10000, 2))"
            ]
          },
          "metadata": {
            "tags": []
          },
          "execution_count": 7
        }
      ]
    },
    {
      "cell_type": "code",
      "metadata": {
        "colab": {
          "base_uri": "https://localhost:8080/",
          "height": 94
        },
        "id": "KT5uBvtWT0O3",
        "outputId": "c79efa6b-5afb-4221-fa70-75f317e1bf28"
      },
      "source": [
        "# Train language model\n",
        "data_lm = TextLMDataBunch.from_df(train_df = sub_df_trn, valid_df = sub_df_val, path = \"\")\n",
        "\n",
        "learn = language_model_learner(data_lm, AWD_LSTM, drop_mult=0.5)\n",
        "learn.fit_one_cycle(1, 1e-2)"
      ],
      "execution_count": null,
      "outputs": [
        {
          "output_type": "display_data",
          "data": {
            "text/html": [
              ""
            ],
            "text/plain": [
              "<IPython.core.display.HTML object>"
            ]
          },
          "metadata": {
            "tags": []
          }
        },
        {
          "output_type": "display_data",
          "data": {
            "text/html": [
              ""
            ],
            "text/plain": [
              "<IPython.core.display.HTML object>"
            ]
          },
          "metadata": {
            "tags": []
          }
        },
        {
          "output_type": "stream",
          "text": [
            "Downloading https://s3.amazonaws.com/fast-ai-modelzoo/wt103-fwd.tgz\n"
          ],
          "name": "stdout"
        },
        {
          "output_type": "display_data",
          "data": {
            "text/html": [
              ""
            ],
            "text/plain": [
              "<IPython.core.display.HTML object>"
            ]
          },
          "metadata": {
            "tags": []
          }
        },
        {
          "output_type": "display_data",
          "data": {
            "text/html": [
              "<table border=\"1\" class=\"dataframe\">\n",
              "  <thead>\n",
              "    <tr style=\"text-align: left;\">\n",
              "      <th>epoch</th>\n",
              "      <th>train_loss</th>\n",
              "      <th>valid_loss</th>\n",
              "      <th>accuracy</th>\n",
              "      <th>time</th>\n",
              "    </tr>\n",
              "  </thead>\n",
              "  <tbody>\n",
              "    <tr>\n",
              "      <td>0</td>\n",
              "      <td>4.252490</td>\n",
              "      <td>4.005153</td>\n",
              "      <td>0.291641</td>\n",
              "      <td>06:10</td>\n",
              "    </tr>\n",
              "  </tbody>\n",
              "</table>"
            ],
            "text/plain": [
              "<IPython.core.display.HTML object>"
            ]
          },
          "metadata": {
            "tags": []
          }
        }
      ]
    },
    {
      "cell_type": "code",
      "metadata": {
        "id": "TOYN0VnRT7yR"
      },
      "source": [
        "learn.save_encoder('ft_enc')"
      ],
      "execution_count": null,
      "outputs": []
    },
    {
      "cell_type": "code",
      "metadata": {
        "colab": {
          "base_uri": "https://localhost:8080/",
          "height": 1000
        },
        "id": "Zpe7Wsm8VuSz",
        "outputId": "e1d8393d-09be-447e-d575-da363aa6001c"
      },
      "source": [
        "# Build classifier\n",
        "data_clas = TextClasDataBunch.from_df(train_df = sub_df_trn, valid_df = sub_df_val, path=\".\", vocab=data_lm.train_ds.vocab, bs=32)\n",
        "\n",
        "learn = text_classifier_learner(data_clas, AWD_LSTM, drop_mult=0.5)\n",
        "learn.load_encoder('ft_enc')"
      ],
      "execution_count": null,
      "outputs": [
        {
          "output_type": "display_data",
          "data": {
            "text/html": [
              ""
            ],
            "text/plain": [
              "<IPython.core.display.HTML object>"
            ]
          },
          "metadata": {
            "tags": []
          }
        },
        {
          "output_type": "display_data",
          "data": {
            "text/html": [
              ""
            ],
            "text/plain": [
              "<IPython.core.display.HTML object>"
            ]
          },
          "metadata": {
            "tags": []
          }
        },
        {
          "output_type": "execute_result",
          "data": {
            "text/plain": [
              "RNNLearner(data=TextClasDataBunch;\n",
              "\n",
              "Train: LabelList (15000 items)\n",
              "x: TextList\n",
              "xxbos i gave this film an 10 / 10 with some reluctance as it 's hard to praise something that so haunted and terrified me for years . xxmaj the sheer menace on the woman in black 's face is just pure horror and the accompanying music just worsens the dread . \n",
              " \n",
              "  i saw this when it was first on xxup tv when i was 10 and it really did disturb me for years . i 'm fascinated by the fact that so many other users have said this too . xxmaj so many movie reviews go on about how disturbing or terrifying a film might be but you can believe all those who have posted on this board , this really is incredibly powerful stuff . i mean i really like horror films and generally find them quite funny more often than not , but this really is menacing and will probably disturb most people . i have n't seen it since i was 10 and i 'm tempted to watch it again but fear i might have some sleepless nights . i ca n't quite put my finger on what it is exactly , but i think it 's something to do with the fact that fear is the xxmaj woman 's greatest weapon and that we , as viewers , are just as susceptible as we feel the fear so intensely . xxmaj it 's remarkable that other viewers ' feelings are so unanimous . \n",
              " \n",
              "  i 've also seen the stage play , which was an excellent production ... but nothing can compare to this .,xxbos xxmaj this dreadful film assembles every xxmaj asian stereotype you can imagine into one hideous package . xxmaj money grubbing , devious xxmaj japanese business men send goofy but loveable policeman xxmaj pat xxmaj morita to recover industrial secrets in xxmaj detroit . xxmaj here he encounters a down at heel xxmaj jay xxmaj leno , who promptly refers to a murder victim as a xxmaj jap and calls xxmaj morita xxmaj tojo . xxmaj it 's all downhill from there .,xxbos xxmaj spoilers ! \n",
              " \n",
              "  xxmaj from the very moment i saw a local film critic trash this movie in a review on the xxunk news , i wanted to see it . i do n't remember who it was , or which local xxmaj omaha newscast carried the review , but the critic was very insistent that this film was way too sleazy for the average church - going xxmaj nebraskan . xxmaj they showed a snippet from the scene where xxmaj john xxmaj glover is about to kidnap xxmaj ann - xxmaj margret when she 's swimming in the pool . xxmaj glover 's character is xxunk her on how nice her body is and so forth , using many words that the local station felt necessary to edit out . i was hooked . xxmaj there was one problem , though . i was only 13 years old at the time , and i had to wait a year until it came out on cable . xxmaj let 's just say , it was worth the wait ! \n",
              " \n",
              "  xxmaj if ever there was a guilty pleasure of mine , this movie is it . xxmaj to call this film sleazy would be a huge understatement . xxmaj the film centers around a successful businessman who is blackmailed by three small time scumbags after an affair with a young woman . xxmaj roy xxmaj scheider , who is as effective as ever , plays the poor guy who just wanted a little fling and now finds himself at the mercy of three terrific villains . xxmaj john xxmaj glover 's character is one of the most memorable scumbags of all time . xxmaj he 's sleazy , funny at times , and always on the brink of doing something crazy . xxmaj then there 's xxmaj robert xxmaj trebor 's ( nice name , by the way ! ) character xxmaj leo who is clearly in over his head with this blackmail scheme . xxmaj he is a whimpering , sweating , coward who runs a peep show place with live nude models . xxmaj then , you have xxmaj clarence xxmaj williams xxup iii as xxmaj bobby xxmaj shy , a brooding sociopath who everyone is afraid of with good reason . xxmaj who could forget the wake - up call he gives xxmaj vanity with the giant teddy bear ? \n",
              " \n",
              "  xxmaj after dealing with the initial shock of realizing what he 's up against , xxmaj scheider turns the tables on these creeps and takes control of the situation , that is until xxmaj glover goes after his wife ! xxmaj the conflict is played out brutally , with virtually the entire cast getting shot , raped , or blown up . \n",
              " \n",
              "  i do n't know why i love this movie so much . xxmaj it really should creep me out , but it does n't . xxmaj maybe it 's because these characters are all interesting , and the story takes plenty of chances that most films today would never try . xxmaj it 's scary to think that the adult film industry probably has more than a few characters like xxmaj glover 's running around out in xxup l.a. looking for trouble . xxmaj just thinking about his voice is enough to make me chuckle . \" xxmaj hey sport , have a nice day ! \" \n",
              " \n",
              "  xxmaj this film has plenty of shootouts , cool cars , great dialog ( like the line in my opening statement ) , and decent acting . xxmaj plenty of cameos by real life porno stars . xxmaj look for xxmaj ron xxmaj jeremy frolicking around in a hot tub with two chicks in a party scene at xxmaj glover 's place . \n",
              " \n",
              "  xxmaj another thing i must add : xxmaj how hot are the women in this film ? ? ? xxmaj wow ! xxmaj travolta did right by marrying xxmaj kelly xxmaj preston . xxmaj yum ! xxmaj we also see xxmaj vanity get nude in a time before she became a born again xxmaj christian . xxmaj and xxmaj ann - xxmaj margret . xxmaj what else could you say about her except that she is the quintessential xxmaj american xxmaj beauty . \n",
              " \n",
              "  9 of 10 stars . \n",
              " \n",
              "  xxmaj so xxunk the xxmaj hound . \n",
              " \n",
              "  xxmaj added xxmaj feb 14 , 2008 : xxup rip xxmaj roy xxmaj scheider !,xxbos xxmaj when i saw this trailer on xxup tv i was surprised . xxmaj in xxmaj may of 2008 i was at xxmaj six xxmaj flags in xxmaj new xxmaj jersey and this was showing at a xxup xxunk attraction ( you know , the attraction that the seats move ) . i take it that the version i saw was a shortened version ( 15 min . ) and also re - created to add the motion effects . xxmaj it was a cute movie ... but that was it . xxmaj it was educational and told about the first mission but the ending of a xxup cgi xxunk seemed a bit ... well ... trite . i was not a big fan of the movie but i would recommend this movie for any parent wanting to inform their children in a fun way about the first xxunk . i will say , the character actors were well selected and the characters themselves were cute . xxmaj so all - in - all , i would say , if you want to bring the younger kids ... go for it . xxmaj but if you are wanting to take your older kids , take them to another movie ... they will thank you .,xxbos i was a kid .. crazy about xxmaj michael xxmaj jackson . xxmaj his music , his dancing .. xxmaj he was and is the greatest of all times . xxmaj few days ago a friend gave me a present .. \" xxmaj moonwalker \" xxup dvd .. i just could n't believe it ! xxmaj so i took my time and saw the movie again .. xxmaj after a lot of years , and it kicked me back in time . i almost cried . xxmaj not because of xxmaj michael xxmaj jackson but of the good old times i remembered back than when i went to his concerts , enjoying music and dancing . xxmaj the movie gave me some other perspective than back then when i was a kid . xxmaj you can truly see the parody that xxmaj michael went through his life . xxmaj thank xxmaj you xxmaj michael xxmaj jackson to bring me back to those great times , to xxmaj your great music and dancing . xxmaj it 's a shame that people has forgotten xxmaj you .. i did n't because xxmaj you gave me great moments with your music .. xxmaj all the best to xxmaj you where ever xxmaj you are out there ..\n",
              "y: CategoryList\n",
              "1,0,1,0,1\n",
              "Path: .;\n",
              "\n",
              "Valid: LabelList (10000 items)\n",
              "x: TextList\n",
              "xxbos xxmaj in what seemed like the longest xxunk 35 i 've had to endure in a long time , xxmaj al xxmaj pacino delivers an accurate performace to be sure . xxmaj not his usual typecasting , which was nice . xxmaj but his character was just truely pathetic . xxmaj someone to xxunk as he stumbles around forgetting xxunk as we realise that the xxmaj hollywood social life has drained him of his life energy . xxmaj but in this movie we needed someone to like . xxmaj and for some reason , every character in the picture said \" i do n't know why i like you , xxmaj eli \" to xxmaj al xxmaj pacino 's xxunk and i could n't even come close to liking him . \n",
              " \n",
              "  xxmaj all the other actors played their usual styles . xxmaj tea xxmaj leoni , xxmaj richard xxmaj schiff , and xxmaj bill xxmaj nunn did nothing to change their established personas developed on xxup tv or in earlier films . xxmaj and xxmaj kim xxmaj basinger was n't even in the film long enough to deliver a performance of any kind . \n",
              " \n",
              "  xxmaj the movie 's story had no momentum . xxmaj most scenes never driving the story forward , but rather just collecting xxunk about characters which later came into play in an anti - climactic ending . xxmaj it had potential except for their unwillingness to build upon the story . \n",
              " \n",
              "  xxmaj what s the point of the film ? xxmaj daniel xxmaj xxunk and xxmaj jon xxmaj robin xxmaj xxunk would have you believe \" xxmaj once xxmaj hollywood has you , you ca n't get out . \" xxmaj yeah right ! xxmaj and that 's why so many people get fired in xxmaj hollywood .,xxbos xxmaj love this film also . xxmaj saw it when it was first shown xxunk xxmaj germany in a small independent cinema in xxmaj xxunk . xxmaj it was really crowded and it was a very ambitious atmosphere to . xxmaj the erotic of the movie hit the spectators and the discussion with xxmaj moritz xxmaj xxunk the producer and director was always underlined by that . xxmaj in his genre it was a very ambitious movie even especially when you think that it was an independent movie . \n",
              " \n",
              "  xxmaj it does n't exist much copies of that film , xxmaj xxunk xxmaj xxunk came from the theatre and made two or three short movies more worked for xxup tv as well before he became a sort of therapist . \n",
              " \n",
              "  xxmaj for the people who wish to see that movie again , you could find it on his xxunk which is n't that easy to search for but its possible .,xxbos xxmaj this is one of those topics i can relate to a little more than most people as i hate noise & have no idea how those in big cities , xxmaj new xxmaj york especially how people get any sleep at all ! xxmaj it xxunk me that people can stand all the noise out there these days . xxmaj the basic plot of the film is that it makes for an interesting topic . xxmaj it 's too bad that 's about it . xxmaj tim xxmaj xxunk is decent although except for a couple of scenes ( especially with the absolute supermodel looking xxmaj margarita xxmaj xxunk ) he did n't seem to really be altogether there . xxmaj my biggest hope for this film is that casting agents will see the absolutely stunning & talented actress to boot , xxmaj margarita xxmaj xxunk . xxmaj she does n't have a lot to do , but she is supermodel beautiful . xxmaj even when they are trying to make her look at more girl next door . xxmaj it makes me sad that there can be people such as xxmaj paris xxmaj hilton & xxmaj kim xxmaj xxunk in the world w / no redeemable skills or talent , to have more fame and success than this talented beauty . i did n't care for much of this film because the script is n't very good , but am glad i got to see some new talent . i hope that producers & directors think about xxmaj margarita when they need a beautiful new actress to be in there big budget film . xxmaj if they can make xxmaj megan xxmaj fox a star ( c'mon she is n't that hot , & her acting \" talent \" is worse than made - for xxmaj disney channel xxup tv shows ) from 1 film , it should happen easily for her , as she is gorgeous & has talent ! i 'd recommend her changing her last name so we can pronounce it and make it more marketable . xxmaj here 's hoping this makes her career , & if there is any justice she can pop up on some big summer movie or two in the next couple years .,xxbos xxmaj for those of you who are not aware with the theme that xxmaj kusturica continues to explore intermittently in his films -- the xxmaj western assault on traditional xxmaj serbian values -- it will be impossible for you to understand his narratives . xxmaj this continuous theme , expressed through fantasy and outrageous comedy as its vehicle , is one that xxmaj kusturica has elected to xxunk . xxmaj since his fantastic work and xxmaj magnum xxmaj opus ' xxmaj underground ' , xxmaj kusturica 's films ' ' xxmaj black xxmaj cat xxmaj white xxmaj cat ' , ' xxmaj life is a xxmaj miracle ' , and recently with ' xxmaj promise xxmaj me xxmaj this ' , his slapstick , xxunk style underscores the ' xxunk ' of xxmaj balkan culture , its ambivalent arrival and assault on the traditional idiom . xxmaj in the case of ' xxmaj promise xxmaj me xxmaj this ' , the paradoxical world of city ( urban space ) and village ( traditional idiom ) space are contrasted . xxmaj the world of the city reflects western attributes that have ensconced the spatial and temporal setting ; organized crime , sexual exploitation , a ruptured sense of identity and xxunk disregard for traditional values -- as expressed toward the young kid -- villager . xxmaj the end of the film further exemplifies this notion as we observe a funeral mass and wedding on a one - way dirt road . xxmaj they are on a collision coarse ; appropriately , the wedding , which represents the xxunk and pulse of the village , i.e. traditional values , are about to collide with the funeral xxunk , xxunk the death of tradition within this context . xxmaj yet xxmaj kusturica brilliantly examines this theme through his own unique , stylistic xxunk . xxmaj with his outrageous and flamboyant style serving as a vehicle in its portrayal .,xxbos shakespeare 's plays have a way of xxunk time . xxmaj the language somehow breaks the time barrier . but perhaps it is the actors who really do that . \n",
              " \n",
              "  after the disappointment in xxmaj romeo and xxmaj juliet ( the version with xxmaj claire xxmaj danes and xxmaj leonardo dicaprio ) , was hesitant take on another modern rendition of xxmaj shakespeare . xxmaj to my surprise xxmaj othello was great ! \n",
              " \n",
              "  xxmaj iago 's character was played so well by the xxmaj kenneth fellow ! even xxunk xxmaj iago is really evil and despicable , the character was played so well that it does what shakespeare intended for the xxunk to be , a pleasure for the audience to hate . i have to say that fishburne 's performance here was really good as well . \n",
              " \n",
              "  i recommend this for shakespeare scholars and lazy students ( who refuse to read the book ) alike .\n",
              "y: CategoryList\n",
              "0,1,0,1,1\n",
              "Path: .;\n",
              "\n",
              "Test: None, model=SequentialRNN(\n",
              "  (0): MultiBatchEncoder(\n",
              "    (module): AWD_LSTM(\n",
              "      (encoder): Embedding(39056, 400, padding_idx=1)\n",
              "      (encoder_dp): EmbeddingDropout(\n",
              "        (emb): Embedding(39056, 400, padding_idx=1)\n",
              "      )\n",
              "      (rnns): ModuleList(\n",
              "        (0): WeightDropout(\n",
              "          (module): LSTM(400, 1152, batch_first=True)\n",
              "        )\n",
              "        (1): WeightDropout(\n",
              "          (module): LSTM(1152, 1152, batch_first=True)\n",
              "        )\n",
              "        (2): WeightDropout(\n",
              "          (module): LSTM(1152, 400, batch_first=True)\n",
              "        )\n",
              "      )\n",
              "      (input_dp): RNNDropout()\n",
              "      (hidden_dps): ModuleList(\n",
              "        (0): RNNDropout()\n",
              "        (1): RNNDropout()\n",
              "        (2): RNNDropout()\n",
              "      )\n",
              "    )\n",
              "  )\n",
              "  (1): PoolingLinearClassifier(\n",
              "    (layers): Sequential(\n",
              "      (0): BatchNorm1d(1200, eps=1e-05, momentum=0.1, affine=True, track_running_stats=True)\n",
              "      (1): Dropout(p=0.2, inplace=False)\n",
              "      (2): Linear(in_features=1200, out_features=50, bias=True)\n",
              "      (3): ReLU(inplace=True)\n",
              "      (4): BatchNorm1d(50, eps=1e-05, momentum=0.1, affine=True, track_running_stats=True)\n",
              "      (5): Dropout(p=0.1, inplace=False)\n",
              "      (6): Linear(in_features=50, out_features=2, bias=True)\n",
              "    )\n",
              "  )\n",
              "), opt_func=functools.partial(<class 'torch.optim.adam.Adam'>, betas=(0.9, 0.99)), loss_func=FlattenedLoss of CrossEntropyLoss(), metrics=[<function accuracy at 0x7fee68582a60>], true_wd=True, bn_wd=True, wd=0.01, train_bn=True, path=PosixPath('.'), model_dir='models', callback_fns=[functools.partial(<class 'fastai.basic_train.Recorder'>, add_time=True, silent=False)], callbacks=[RNNTrainer\n",
              "learn: RNNLearner(data=TextClasDataBunch;\n",
              "\n",
              "Train: LabelList (15000 items)\n",
              "x: TextList\n",
              "xxbos i gave this film an 10 / 10 with some reluctance as it 's hard to praise something that so haunted and terrified me for years . xxmaj the sheer menace on the woman in black 's face is just pure horror and the accompanying music just worsens the dread . \n",
              " \n",
              "  i saw this when it was first on xxup tv when i was 10 and it really did disturb me for years . i 'm fascinated by the fact that so many other users have said this too . xxmaj so many movie reviews go on about how disturbing or terrifying a film might be but you can believe all those who have posted on this board , this really is incredibly powerful stuff . i mean i really like horror films and generally find them quite funny more often than not , but this really is menacing and will probably disturb most people . i have n't seen it since i was 10 and i 'm tempted to watch it again but fear i might have some sleepless nights . i ca n't quite put my finger on what it is exactly , but i think it 's something to do with the fact that fear is the xxmaj woman 's greatest weapon and that we , as viewers , are just as susceptible as we feel the fear so intensely . xxmaj it 's remarkable that other viewers ' feelings are so unanimous . \n",
              " \n",
              "  i 've also seen the stage play , which was an excellent production ... but nothing can compare to this .,xxbos xxmaj this dreadful film assembles every xxmaj asian stereotype you can imagine into one hideous package . xxmaj money grubbing , devious xxmaj japanese business men send goofy but loveable policeman xxmaj pat xxmaj morita to recover industrial secrets in xxmaj detroit . xxmaj here he encounters a down at heel xxmaj jay xxmaj leno , who promptly refers to a murder victim as a xxmaj jap and calls xxmaj morita xxmaj tojo . xxmaj it 's all downhill from there .,xxbos xxmaj spoilers ! \n",
              " \n",
              "  xxmaj from the very moment i saw a local film critic trash this movie in a review on the xxunk news , i wanted to see it . i do n't remember who it was , or which local xxmaj omaha newscast carried the review , but the critic was very insistent that this film was way too sleazy for the average church - going xxmaj nebraskan . xxmaj they showed a snippet from the scene where xxmaj john xxmaj glover is about to kidnap xxmaj ann - xxmaj margret when she 's swimming in the pool . xxmaj glover 's character is xxunk her on how nice her body is and so forth , using many words that the local station felt necessary to edit out . i was hooked . xxmaj there was one problem , though . i was only 13 years old at the time , and i had to wait a year until it came out on cable . xxmaj let 's just say , it was worth the wait ! \n",
              " \n",
              "  xxmaj if ever there was a guilty pleasure of mine , this movie is it . xxmaj to call this film sleazy would be a huge understatement . xxmaj the film centers around a successful businessman who is blackmailed by three small time scumbags after an affair with a young woman . xxmaj roy xxmaj scheider , who is as effective as ever , plays the poor guy who just wanted a little fling and now finds himself at the mercy of three terrific villains . xxmaj john xxmaj glover 's character is one of the most memorable scumbags of all time . xxmaj he 's sleazy , funny at times , and always on the brink of doing something crazy . xxmaj then there 's xxmaj robert xxmaj trebor 's ( nice name , by the way ! ) character xxmaj leo who is clearly in over his head with this blackmail scheme . xxmaj he is a whimpering , sweating , coward who runs a peep show place with live nude models . xxmaj then , you have xxmaj clarence xxmaj williams xxup iii as xxmaj bobby xxmaj shy , a brooding sociopath who everyone is afraid of with good reason . xxmaj who could forget the wake - up call he gives xxmaj vanity with the giant teddy bear ? \n",
              " \n",
              "  xxmaj after dealing with the initial shock of realizing what he 's up against , xxmaj scheider turns the tables on these creeps and takes control of the situation , that is until xxmaj glover goes after his wife ! xxmaj the conflict is played out brutally , with virtually the entire cast getting shot , raped , or blown up . \n",
              " \n",
              "  i do n't know why i love this movie so much . xxmaj it really should creep me out , but it does n't . xxmaj maybe it 's because these characters are all interesting , and the story takes plenty of chances that most films today would never try . xxmaj it 's scary to think that the adult film industry probably has more than a few characters like xxmaj glover 's running around out in xxup l.a. looking for trouble . xxmaj just thinking about his voice is enough to make me chuckle . \" xxmaj hey sport , have a nice day ! \" \n",
              " \n",
              "  xxmaj this film has plenty of shootouts , cool cars , great dialog ( like the line in my opening statement ) , and decent acting . xxmaj plenty of cameos by real life porno stars . xxmaj look for xxmaj ron xxmaj jeremy frolicking around in a hot tub with two chicks in a party scene at xxmaj glover 's place . \n",
              " \n",
              "  xxmaj another thing i must add : xxmaj how hot are the women in this film ? ? ? xxmaj wow ! xxmaj travolta did right by marrying xxmaj kelly xxmaj preston . xxmaj yum ! xxmaj we also see xxmaj vanity get nude in a time before she became a born again xxmaj christian . xxmaj and xxmaj ann - xxmaj margret . xxmaj what else could you say about her except that she is the quintessential xxmaj american xxmaj beauty . \n",
              " \n",
              "  9 of 10 stars . \n",
              " \n",
              "  xxmaj so xxunk the xxmaj hound . \n",
              " \n",
              "  xxmaj added xxmaj feb 14 , 2008 : xxup rip xxmaj roy xxmaj scheider !,xxbos xxmaj when i saw this trailer on xxup tv i was surprised . xxmaj in xxmaj may of 2008 i was at xxmaj six xxmaj flags in xxmaj new xxmaj jersey and this was showing at a xxup xxunk attraction ( you know , the attraction that the seats move ) . i take it that the version i saw was a shortened version ( 15 min . ) and also re - created to add the motion effects . xxmaj it was a cute movie ... but that was it . xxmaj it was educational and told about the first mission but the ending of a xxup cgi xxunk seemed a bit ... well ... trite . i was not a big fan of the movie but i would recommend this movie for any parent wanting to inform their children in a fun way about the first xxunk . i will say , the character actors were well selected and the characters themselves were cute . xxmaj so all - in - all , i would say , if you want to bring the younger kids ... go for it . xxmaj but if you are wanting to take your older kids , take them to another movie ... they will thank you .,xxbos i was a kid .. crazy about xxmaj michael xxmaj jackson . xxmaj his music , his dancing .. xxmaj he was and is the greatest of all times . xxmaj few days ago a friend gave me a present .. \" xxmaj moonwalker \" xxup dvd .. i just could n't believe it ! xxmaj so i took my time and saw the movie again .. xxmaj after a lot of years , and it kicked me back in time . i almost cried . xxmaj not because of xxmaj michael xxmaj jackson but of the good old times i remembered back than when i went to his concerts , enjoying music and dancing . xxmaj the movie gave me some other perspective than back then when i was a kid . xxmaj you can truly see the parody that xxmaj michael went through his life . xxmaj thank xxmaj you xxmaj michael xxmaj jackson to bring me back to those great times , to xxmaj your great music and dancing . xxmaj it 's a shame that people has forgotten xxmaj you .. i did n't because xxmaj you gave me great moments with your music .. xxmaj all the best to xxmaj you where ever xxmaj you are out there ..\n",
              "y: CategoryList\n",
              "1,0,1,0,1\n",
              "Path: .;\n",
              "\n",
              "Valid: LabelList (10000 items)\n",
              "x: TextList\n",
              "xxbos xxmaj in what seemed like the longest xxunk 35 i 've had to endure in a long time , xxmaj al xxmaj pacino delivers an accurate performace to be sure . xxmaj not his usual typecasting , which was nice . xxmaj but his character was just truely pathetic . xxmaj someone to xxunk as he stumbles around forgetting xxunk as we realise that the xxmaj hollywood social life has drained him of his life energy . xxmaj but in this movie we needed someone to like . xxmaj and for some reason , every character in the picture said \" i do n't know why i like you , xxmaj eli \" to xxmaj al xxmaj pacino 's xxunk and i could n't even come close to liking him . \n",
              " \n",
              "  xxmaj all the other actors played their usual styles . xxmaj tea xxmaj leoni , xxmaj richard xxmaj schiff , and xxmaj bill xxmaj nunn did nothing to change their established personas developed on xxup tv or in earlier films . xxmaj and xxmaj kim xxmaj basinger was n't even in the film long enough to deliver a performance of any kind . \n",
              " \n",
              "  xxmaj the movie 's story had no momentum . xxmaj most scenes never driving the story forward , but rather just collecting xxunk about characters which later came into play in an anti - climactic ending . xxmaj it had potential except for their unwillingness to build upon the story . \n",
              " \n",
              "  xxmaj what s the point of the film ? xxmaj daniel xxmaj xxunk and xxmaj jon xxmaj robin xxmaj xxunk would have you believe \" xxmaj once xxmaj hollywood has you , you ca n't get out . \" xxmaj yeah right ! xxmaj and that 's why so many people get fired in xxmaj hollywood .,xxbos xxmaj love this film also . xxmaj saw it when it was first shown xxunk xxmaj germany in a small independent cinema in xxmaj xxunk . xxmaj it was really crowded and it was a very ambitious atmosphere to . xxmaj the erotic of the movie hit the spectators and the discussion with xxmaj moritz xxmaj xxunk the producer and director was always underlined by that . xxmaj in his genre it was a very ambitious movie even especially when you think that it was an independent movie . \n",
              " \n",
              "  xxmaj it does n't exist much copies of that film , xxmaj xxunk xxmaj xxunk came from the theatre and made two or three short movies more worked for xxup tv as well before he became a sort of therapist . \n",
              " \n",
              "  xxmaj for the people who wish to see that movie again , you could find it on his xxunk which is n't that easy to search for but its possible .,xxbos xxmaj this is one of those topics i can relate to a little more than most people as i hate noise & have no idea how those in big cities , xxmaj new xxmaj york especially how people get any sleep at all ! xxmaj it xxunk me that people can stand all the noise out there these days . xxmaj the basic plot of the film is that it makes for an interesting topic . xxmaj it 's too bad that 's about it . xxmaj tim xxmaj xxunk is decent although except for a couple of scenes ( especially with the absolute supermodel looking xxmaj margarita xxmaj xxunk ) he did n't seem to really be altogether there . xxmaj my biggest hope for this film is that casting agents will see the absolutely stunning & talented actress to boot , xxmaj margarita xxmaj xxunk . xxmaj she does n't have a lot to do , but she is supermodel beautiful . xxmaj even when they are trying to make her look at more girl next door . xxmaj it makes me sad that there can be people such as xxmaj paris xxmaj hilton & xxmaj kim xxmaj xxunk in the world w / no redeemable skills or talent , to have more fame and success than this talented beauty . i did n't care for much of this film because the script is n't very good , but am glad i got to see some new talent . i hope that producers & directors think about xxmaj margarita when they need a beautiful new actress to be in there big budget film . xxmaj if they can make xxmaj megan xxmaj fox a star ( c'mon she is n't that hot , & her acting \" talent \" is worse than made - for xxmaj disney channel xxup tv shows ) from 1 film , it should happen easily for her , as she is gorgeous & has talent ! i 'd recommend her changing her last name so we can pronounce it and make it more marketable . xxmaj here 's hoping this makes her career , & if there is any justice she can pop up on some big summer movie or two in the next couple years .,xxbos xxmaj for those of you who are not aware with the theme that xxmaj kusturica continues to explore intermittently in his films -- the xxmaj western assault on traditional xxmaj serbian values -- it will be impossible for you to understand his narratives . xxmaj this continuous theme , expressed through fantasy and outrageous comedy as its vehicle , is one that xxmaj kusturica has elected to xxunk . xxmaj since his fantastic work and xxmaj magnum xxmaj opus ' xxmaj underground ' , xxmaj kusturica 's films ' ' xxmaj black xxmaj cat xxmaj white xxmaj cat ' , ' xxmaj life is a xxmaj miracle ' , and recently with ' xxmaj promise xxmaj me xxmaj this ' , his slapstick , xxunk style underscores the ' xxunk ' of xxmaj balkan culture , its ambivalent arrival and assault on the traditional idiom . xxmaj in the case of ' xxmaj promise xxmaj me xxmaj this ' , the paradoxical world of city ( urban space ) and village ( traditional idiom ) space are contrasted . xxmaj the world of the city reflects western attributes that have ensconced the spatial and temporal setting ; organized crime , sexual exploitation , a ruptured sense of identity and xxunk disregard for traditional values -- as expressed toward the young kid -- villager . xxmaj the end of the film further exemplifies this notion as we observe a funeral mass and wedding on a one - way dirt road . xxmaj they are on a collision coarse ; appropriately , the wedding , which represents the xxunk and pulse of the village , i.e. traditional values , are about to collide with the funeral xxunk , xxunk the death of tradition within this context . xxmaj yet xxmaj kusturica brilliantly examines this theme through his own unique , stylistic xxunk . xxmaj with his outrageous and flamboyant style serving as a vehicle in its portrayal .,xxbos shakespeare 's plays have a way of xxunk time . xxmaj the language somehow breaks the time barrier . but perhaps it is the actors who really do that . \n",
              " \n",
              "  after the disappointment in xxmaj romeo and xxmaj juliet ( the version with xxmaj claire xxmaj danes and xxmaj leonardo dicaprio ) , was hesitant take on another modern rendition of xxmaj shakespeare . xxmaj to my surprise xxmaj othello was great ! \n",
              " \n",
              "  xxmaj iago 's character was played so well by the xxmaj kenneth fellow ! even xxunk xxmaj iago is really evil and despicable , the character was played so well that it does what shakespeare intended for the xxunk to be , a pleasure for the audience to hate . i have to say that fishburne 's performance here was really good as well . \n",
              " \n",
              "  i recommend this for shakespeare scholars and lazy students ( who refuse to read the book ) alike .\n",
              "y: CategoryList\n",
              "0,1,0,1,1\n",
              "Path: .;\n",
              "\n",
              "Test: None, model=SequentialRNN(\n",
              "  (0): MultiBatchEncoder(\n",
              "    (module): AWD_LSTM(\n",
              "      (encoder): Embedding(39056, 400, padding_idx=1)\n",
              "      (encoder_dp): EmbeddingDropout(\n",
              "        (emb): Embedding(39056, 400, padding_idx=1)\n",
              "      )\n",
              "      (rnns): ModuleList(\n",
              "        (0): WeightDropout(\n",
              "          (module): LSTM(400, 1152, batch_first=True)\n",
              "        )\n",
              "        (1): WeightDropout(\n",
              "          (module): LSTM(1152, 1152, batch_first=True)\n",
              "        )\n",
              "        (2): WeightDropout(\n",
              "          (module): LSTM(1152, 400, batch_first=True)\n",
              "        )\n",
              "      )\n",
              "      (input_dp): RNNDropout()\n",
              "      (hidden_dps): ModuleList(\n",
              "        (0): RNNDropout()\n",
              "        (1): RNNDropout()\n",
              "        (2): RNNDropout()\n",
              "      )\n",
              "    )\n",
              "  )\n",
              "  (1): PoolingLinearClassifier(\n",
              "    (layers): Sequential(\n",
              "      (0): BatchNorm1d(1200, eps=1e-05, momentum=0.1, affine=True, track_running_stats=True)\n",
              "      (1): Dropout(p=0.2, inplace=False)\n",
              "      (2): Linear(in_features=1200, out_features=50, bias=True)\n",
              "      (3): ReLU(inplace=True)\n",
              "      (4): BatchNorm1d(50, eps=1e-05, momentum=0.1, affine=True, track_running_stats=True)\n",
              "      (5): Dropout(p=0.1, inplace=False)\n",
              "      (6): Linear(in_features=50, out_features=2, bias=True)\n",
              "    )\n",
              "  )\n",
              "), opt_func=functools.partial(<class 'torch.optim.adam.Adam'>, betas=(0.9, 0.99)), loss_func=FlattenedLoss of CrossEntropyLoss(), metrics=[<function accuracy at 0x7fee68582a60>], true_wd=True, bn_wd=True, wd=0.01, train_bn=True, path=PosixPath('.'), model_dir='models', callback_fns=[functools.partial(<class 'fastai.basic_train.Recorder'>, add_time=True, silent=False)], callbacks=[...], layer_groups=[Sequential(\n",
              "  (0): Embedding(39056, 400, padding_idx=1)\n",
              "  (1): EmbeddingDropout(\n",
              "    (emb): Embedding(39056, 400, padding_idx=1)\n",
              "  )\n",
              "), Sequential(\n",
              "  (0): WeightDropout(\n",
              "    (module): LSTM(400, 1152, batch_first=True)\n",
              "  )\n",
              "  (1): RNNDropout()\n",
              "), Sequential(\n",
              "  (0): WeightDropout(\n",
              "    (module): LSTM(1152, 1152, batch_first=True)\n",
              "  )\n",
              "  (1): RNNDropout()\n",
              "), Sequential(\n",
              "  (0): WeightDropout(\n",
              "    (module): LSTM(1152, 400, batch_first=True)\n",
              "  )\n",
              "  (1): RNNDropout()\n",
              "), Sequential(\n",
              "  (0): PoolingLinearClassifier(\n",
              "    (layers): Sequential(\n",
              "      (0): BatchNorm1d(1200, eps=1e-05, momentum=0.1, affine=True, track_running_stats=True)\n",
              "      (1): Dropout(p=0.2, inplace=False)\n",
              "      (2): Linear(in_features=1200, out_features=50, bias=True)\n",
              "      (3): ReLU(inplace=True)\n",
              "      (4): BatchNorm1d(50, eps=1e-05, momentum=0.1, affine=True, track_running_stats=True)\n",
              "      (5): Dropout(p=0.1, inplace=False)\n",
              "      (6): Linear(in_features=50, out_features=2, bias=True)\n",
              "    )\n",
              "  )\n",
              ")], add_time=True, silent=False)\n",
              "alpha: 2.0\n",
              "beta: 1.0], layer_groups=[Sequential(\n",
              "  (0): Embedding(39056, 400, padding_idx=1)\n",
              "  (1): EmbeddingDropout(\n",
              "    (emb): Embedding(39056, 400, padding_idx=1)\n",
              "  )\n",
              "), Sequential(\n",
              "  (0): WeightDropout(\n",
              "    (module): LSTM(400, 1152, batch_first=True)\n",
              "  )\n",
              "  (1): RNNDropout()\n",
              "), Sequential(\n",
              "  (0): WeightDropout(\n",
              "    (module): LSTM(1152, 1152, batch_first=True)\n",
              "  )\n",
              "  (1): RNNDropout()\n",
              "), Sequential(\n",
              "  (0): WeightDropout(\n",
              "    (module): LSTM(1152, 400, batch_first=True)\n",
              "  )\n",
              "  (1): RNNDropout()\n",
              "), Sequential(\n",
              "  (0): PoolingLinearClassifier(\n",
              "    (layers): Sequential(\n",
              "      (0): BatchNorm1d(1200, eps=1e-05, momentum=0.1, affine=True, track_running_stats=True)\n",
              "      (1): Dropout(p=0.2, inplace=False)\n",
              "      (2): Linear(in_features=1200, out_features=50, bias=True)\n",
              "      (3): ReLU(inplace=True)\n",
              "      (4): BatchNorm1d(50, eps=1e-05, momentum=0.1, affine=True, track_running_stats=True)\n",
              "      (5): Dropout(p=0.1, inplace=False)\n",
              "      (6): Linear(in_features=50, out_features=2, bias=True)\n",
              "    )\n",
              "  )\n",
              ")], add_time=True, silent=False)"
            ]
          },
          "metadata": {
            "tags": []
          },
          "execution_count": 10
        }
      ]
    },
    {
      "cell_type": "code",
      "metadata": {
        "colab": {
          "base_uri": "https://localhost:8080/",
          "height": 77
        },
        "id": "3BI2Z4WcVxGt",
        "outputId": "a790c9e4-59e0-4a1e-eb20-5101b940256f"
      },
      "source": [
        "# train final layers\n",
        "learn.fit_one_cycle(1, 1e-2)"
      ],
      "execution_count": null,
      "outputs": [
        {
          "output_type": "display_data",
          "data": {
            "text/html": [
              "<table border=\"1\" class=\"dataframe\">\n",
              "  <thead>\n",
              "    <tr style=\"text-align: left;\">\n",
              "      <th>epoch</th>\n",
              "      <th>train_loss</th>\n",
              "      <th>valid_loss</th>\n",
              "      <th>accuracy</th>\n",
              "      <th>time</th>\n",
              "    </tr>\n",
              "  </thead>\n",
              "  <tbody>\n",
              "    <tr>\n",
              "      <td>0</td>\n",
              "      <td>0.436485</td>\n",
              "      <td>0.344233</td>\n",
              "      <td>0.857400</td>\n",
              "      <td>02:14</td>\n",
              "    </tr>\n",
              "  </tbody>\n",
              "</table>"
            ],
            "text/plain": [
              "<IPython.core.display.HTML object>"
            ]
          },
          "metadata": {
            "tags": []
          }
        }
      ]
    },
    {
      "cell_type": "code",
      "metadata": {
        "colab": {
          "base_uri": "https://localhost:8080/",
          "height": 77
        },
        "id": "VzydB_KnWP2g",
        "outputId": "047a7479-229f-481b-e6d1-bd5fff41e45a"
      },
      "source": [
        "# unfreeze model and fine tune it\n",
        "learn.freeze_to(-2)\n",
        "learn.fit_one_cycle(1, slice(5e-3/2., 5e-3))"
      ],
      "execution_count": null,
      "outputs": [
        {
          "output_type": "display_data",
          "data": {
            "text/html": [
              "<table border=\"1\" class=\"dataframe\">\n",
              "  <thead>\n",
              "    <tr style=\"text-align: left;\">\n",
              "      <th>epoch</th>\n",
              "      <th>train_loss</th>\n",
              "      <th>valid_loss</th>\n",
              "      <th>accuracy</th>\n",
              "      <th>time</th>\n",
              "    </tr>\n",
              "  </thead>\n",
              "  <tbody>\n",
              "    <tr>\n",
              "      <td>0</td>\n",
              "      <td>0.346651</td>\n",
              "      <td>0.253466</td>\n",
              "      <td>0.895800</td>\n",
              "      <td>03:01</td>\n",
              "    </tr>\n",
              "  </tbody>\n",
              "</table>"
            ],
            "text/plain": [
              "<IPython.core.display.HTML object>"
            ]
          },
          "metadata": {
            "tags": []
          }
        }
      ]
    },
    {
      "cell_type": "code",
      "metadata": {
        "colab": {
          "base_uri": "https://localhost:8080/",
          "height": 77
        },
        "id": "j7CABsmJXEP4",
        "outputId": "317d6c35-df5a-491c-ea3b-3b3653456a11"
      },
      "source": [
        "learn.unfreeze()\n",
        "learn.fit_one_cycle(1, slice(2e-3/100, 2e-3))"
      ],
      "execution_count": null,
      "outputs": [
        {
          "output_type": "display_data",
          "data": {
            "text/html": [
              "<table border=\"1\" class=\"dataframe\">\n",
              "  <thead>\n",
              "    <tr style=\"text-align: left;\">\n",
              "      <th>epoch</th>\n",
              "      <th>train_loss</th>\n",
              "      <th>valid_loss</th>\n",
              "      <th>accuracy</th>\n",
              "      <th>time</th>\n",
              "    </tr>\n",
              "  </thead>\n",
              "  <tbody>\n",
              "    <tr>\n",
              "      <td>0</td>\n",
              "      <td>0.283231</td>\n",
              "      <td>0.215611</td>\n",
              "      <td>0.914100</td>\n",
              "      <td>05:16</td>\n",
              "    </tr>\n",
              "  </tbody>\n",
              "</table>"
            ],
            "text/plain": [
              "<IPython.core.display.HTML object>"
            ]
          },
          "metadata": {
            "tags": []
          }
        }
      ]
    },
    {
      "cell_type": "code",
      "metadata": {
        "colab": {
          "base_uri": "https://localhost:8080/",
          "height": 77
        },
        "id": "yeEqN8-PXOtT",
        "outputId": "bb8883a9-b9af-4513-eea4-4203830c28dc"
      },
      "source": [
        "# unfreeze model and fine tune it\n",
        "learn.freeze_to(-3)\n",
        "learn.fit_one_cycle(1, slice(1e-3/2., 1e-3))"
      ],
      "execution_count": null,
      "outputs": [
        {
          "output_type": "display_data",
          "data": {
            "text/html": [
              "<table border=\"1\" class=\"dataframe\">\n",
              "  <thead>\n",
              "    <tr style=\"text-align: left;\">\n",
              "      <th>epoch</th>\n",
              "      <th>train_loss</th>\n",
              "      <th>valid_loss</th>\n",
              "      <th>accuracy</th>\n",
              "      <th>time</th>\n",
              "    </tr>\n",
              "  </thead>\n",
              "  <tbody>\n",
              "    <tr>\n",
              "      <td>0</td>\n",
              "      <td>0.261427</td>\n",
              "      <td>0.198386</td>\n",
              "      <td>0.920400</td>\n",
              "      <td>04:03</td>\n",
              "    </tr>\n",
              "  </tbody>\n",
              "</table>"
            ],
            "text/plain": [
              "<IPython.core.display.HTML object>"
            ]
          },
          "metadata": {
            "tags": []
          }
        }
      ]
    },
    {
      "cell_type": "code",
      "metadata": {
        "colab": {
          "base_uri": "https://localhost:8080/",
          "height": 77
        },
        "id": "YUmfeHfGXS6Z",
        "outputId": "2686402a-d7ba-4cf0-caa1-dace470c4d8f"
      },
      "source": [
        "learn.unfreeze()\n",
        "learn.fit_one_cycle(1, slice(1e-3/100, 1e-3))"
      ],
      "execution_count": null,
      "outputs": [
        {
          "output_type": "display_data",
          "data": {
            "text/html": [
              "<table border=\"1\" class=\"dataframe\">\n",
              "  <thead>\n",
              "    <tr style=\"text-align: left;\">\n",
              "      <th>epoch</th>\n",
              "      <th>train_loss</th>\n",
              "      <th>valid_loss</th>\n",
              "      <th>accuracy</th>\n",
              "      <th>time</th>\n",
              "    </tr>\n",
              "  </thead>\n",
              "  <tbody>\n",
              "    <tr>\n",
              "      <td>0</td>\n",
              "      <td>0.212364</td>\n",
              "      <td>0.189218</td>\n",
              "      <td>0.925900</td>\n",
              "      <td>04:38</td>\n",
              "    </tr>\n",
              "  </tbody>\n",
              "</table>"
            ],
            "text/plain": [
              "<IPython.core.display.HTML object>"
            ]
          },
          "metadata": {
            "tags": []
          }
        }
      ]
    },
    {
      "cell_type": "code",
      "metadata": {
        "colab": {
          "base_uri": "https://localhost:8080/",
          "height": 17
        },
        "id": "9yZjVkTwXVUj",
        "outputId": "b39cbe0d-5780-4244-d65d-a231f8845530"
      },
      "source": [
        "from fastai.vision import *\n",
        "preds, y, losses = learn.get_preds(with_loss=True)\n",
        "interp = ClassificationInterpretation(learn, preds, y, losses)"
      ],
      "execution_count": null,
      "outputs": [
        {
          "output_type": "display_data",
          "data": {
            "text/html": [
              ""
            ],
            "text/plain": [
              "<IPython.core.display.HTML object>"
            ]
          },
          "metadata": {
            "tags": []
          }
        }
      ]
    },
    {
      "cell_type": "code",
      "metadata": {
        "colab": {
          "base_uri": "https://localhost:8080/",
          "height": 311
        },
        "id": "0qElnB-vXX9J",
        "outputId": "523b97bf-6169-42a7-a6c7-a8894c34eab9"
      },
      "source": [
        "interp.plot_confusion_matrix()"
      ],
      "execution_count": null,
      "outputs": [
        {
          "output_type": "display_data",
          "data": {
            "image/png": "[encoded data removed]",
            "text/plain": [
              "<Figure size 432x288 with 1 Axes>"
            ]
          },
          "metadata": {
            "tags": [],
            "needs_background": "light"
          }
        }
      ]
    }
  ]
}