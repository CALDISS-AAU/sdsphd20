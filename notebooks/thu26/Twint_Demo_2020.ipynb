{
  "nbformat": 4,
  "nbformat_minor": 0,
  "metadata": {
    "colab": {
      "name": "Twint Demo 2020.ipynb",
      "provenance": [],
      "authorship_tag": "ABX9TyOubnE04Nl5B0v5FgXR4wxy",
      "include_colab_link": true
    },
    "kernelspec": {
      "display_name": "Python 3",
      "name": "python3"
    }
  },
  "cells": [
    {
      "cell_type": "markdown",
      "metadata": {
        "id": "view-in-github",
        "colab_type": "text"
      },
      "source": [
        "<a href=\"https://colab.research.google.com/github/CALDISS-AAU/sdsphd20/blob/master/notebooks/thu26/Twint_Demo_2020.ipynb\" target=\"_parent\"><img src=\"https://colab.research.google.com/assets/colab-badge.svg\" alt=\"Open In Colab\"/></a>"
      ]
    },
    {
      "cell_type": "markdown",
      "metadata": {
        "id": "L11j-3v7w_el"
      },
      "source": [
        "# Basic scraping from Twitter\n",
        "\n",
        "This is a short demo of the [Twint library](https://github.com/twintproject/twint) that scrapes Twitter without API or Selenium etc. Things break on a regular basis and there is no guarantee that it will work in future.\n",
        "However, it does have a large user base and that seems to have been helpful thus far.\n",
        "\n",
        "This is a demo outside the course scope. Using this library may be not in compliance with Twitter's policies.\n",
        "\n",
        "For more examples and functionality have a look at this tutorial: https://pielco11.ovh/posts/twint-osint/"
      ]
    },
    {
      "cell_type": "code",
      "metadata": {
        "id": "Xzfj5SDUvb2T",
        "colab": {
          "base_uri": "https://localhost:8080/",
          "height": 1000
        },
        "outputId": "8a77db09-1530-46c5-c2f1-6eb85d2802c6"
      },
      "source": [
        "!pip3 install --user --upgrade git+https://github.com/twintproject/twint.git@origin/master#egg=twint"
      ],
      "execution_count": null,
      "outputs": [
        {
          "output_type": "stream",
          "text": [
            "Collecting twint\n",
            "  Cloning https://github.com/twintproject/twint.git (to revision origin/master) to /tmp/pip-install-soxlx6b2/twint\n",
            "  Running command git clone -q https://github.com/twintproject/twint.git /tmp/pip-install-soxlx6b2/twint\n",
            "\u001b[33m  WARNING: Did not find branch or tag 'origin/master', assuming revision or ref.\u001b[0m\n",
            "  Running command git checkout -q origin/master\n",
            "Collecting aiohttp\n",
            "\u001b[?25l  Downloading https://files.pythonhosted.org/packages/ad/e6/d4b6235d776c9b33f853e603efede5aac5a34f71ca9d3877adb30492eb4e/aiohttp-3.7.3-cp36-cp36m-manylinux2014_x86_64.whl (1.3MB)\n",
            "\u001b[K     |████████████████████████████████| 1.3MB 5.6MB/s \n",
            "\u001b[?25hCollecting aiodns\n",
            "  Downloading https://files.pythonhosted.org/packages/da/01/8f2d49b441573fd2478833bdba91cf0b853b4c750a1fbb9e98de1b94bb22/aiodns-2.0.0-py2.py3-none-any.whl\n",
            "Requirement already satisfied, skipping upgrade: beautifulsoup4 in /usr/local/lib/python3.6/dist-packages (from twint) (4.6.3)\n",
            "Collecting cchardet\n",
            "\u001b[?25l  Downloading https://files.pythonhosted.org/packages/a0/e5/a0b9edd8664ea3b0d3270c451ebbf86655ed9fc4c3e4c45b9afae9c2e382/cchardet-2.1.7-cp36-cp36m-manylinux2010_x86_64.whl (263kB)\n",
            "\u001b[K     |████████████████████████████████| 266kB 13.7MB/s \n",
            "\u001b[?25hRequirement already satisfied, skipping upgrade: dataclasses in /usr/local/lib/python3.6/dist-packages (from twint) (0.8)\n",
            "Collecting elasticsearch\n",
            "\u001b[?25l  Downloading https://files.pythonhosted.org/packages/14/ba/f950bdd9164fb2bbbe5093700162234fbe61f446fe2300a8993761c132ca/elasticsearch-7.10.0-py2.py3-none-any.whl (321kB)\n",
            "\u001b[K     |████████████████████████████████| 327kB 14.3MB/s \n",
            "\u001b[?25hRequirement already satisfied, skipping upgrade: pysocks in /usr/local/lib/python3.6/dist-packages (from twint) (1.7.1)\n",
            "Requirement already satisfied, skipping upgrade: pandas in /usr/local/lib/python3.6/dist-packages (from twint) (1.1.4)\n",
            "Collecting aiohttp_socks\n",
            "  Downloading https://files.pythonhosted.org/packages/14/11/67750d2d6ba48eae602392b55513441058a2a004e5271276df03d3ed6393/aiohttp_socks-0.5.5-py3-none-any.whl\n",
            "Collecting schedule\n",
            "  Downloading https://files.pythonhosted.org/packages/57/22/3a709462eb02412bd1145f6e53604f36bba191e3e4e397bea4a718fec38c/schedule-0.6.0-py2.py3-none-any.whl\n",
            "Requirement already satisfied, skipping upgrade: geopy in /usr/local/lib/python3.6/dist-packages (from twint) (1.17.0)\n",
            "Collecting fake-useragent\n",
            "  Downloading https://files.pythonhosted.org/packages/d1/79/af647635d6968e2deb57a208d309f6069d31cb138066d7e821e575112a80/fake-useragent-0.1.11.tar.gz\n",
            "Collecting googletransx\n",
            "  Downloading https://files.pythonhosted.org/packages/27/e1/77cd530afec7944d40c5bdd260bcc111be4012b045c82d4e3ffec90b2a42/googletransx-2.4.2.tar.gz\n",
            "Requirement already satisfied, skipping upgrade: attrs>=17.3.0 in /usr/local/lib/python3.6/dist-packages (from aiohttp->twint) (20.3.0)\n",
            "Collecting idna-ssl>=1.0; python_version < \"3.7\"\n",
            "  Downloading https://files.pythonhosted.org/packages/46/03/07c4894aae38b0de52b52586b24bf189bb83e4ddabfe2e2c8f2419eec6f4/idna-ssl-1.1.0.tar.gz\n",
            "Collecting async-timeout<4.0,>=3.0\n",
            "  Downloading https://files.pythonhosted.org/packages/e1/1e/5a4441be21b0726c4464f3f23c8b19628372f606755a9d2e46c187e65ec4/async_timeout-3.0.1-py3-none-any.whl\n",
            "Collecting multidict<7.0,>=4.5\n",
            "\u001b[?25l  Downloading https://files.pythonhosted.org/packages/a5/95/f89c97db4d27b24fce7c6fb6ef05228f347e43bbf67e4737a0660c8753fd/multidict-5.0.2-cp36-cp36m-manylinux2014_x86_64.whl (141kB)\n",
            "\u001b[K     |████████████████████████████████| 143kB 14.2MB/s \n",
            "\u001b[?25hCollecting yarl<2.0,>=1.0\n",
            "\u001b[?25l  Downloading https://files.pythonhosted.org/packages/da/08/52b26b44bce7b818b410aee37c5e424c9ea420c557bca97dc2adac29b151/yarl-1.6.3-cp36-cp36m-manylinux2014_x86_64.whl (293kB)\n",
            "\u001b[K     |████████████████████████████████| 296kB 17.2MB/s \n",
            "\u001b[?25hRequirement already satisfied, skipping upgrade: typing-extensions>=3.6.5 in /usr/local/lib/python3.6/dist-packages (from aiohttp->twint) (3.7.4.3)\n",
            "Requirement already satisfied, skipping upgrade: chardet<4.0,>=2.0 in /usr/local/lib/python3.6/dist-packages (from aiohttp->twint) (3.0.4)\n",
            "Collecting typing; python_version < \"3.7\"\n",
            "\u001b[?25l  Downloading https://files.pythonhosted.org/packages/05/d9/6eebe19d46bd05360c9a9aae822e67a80f9242aabbfc58b641b957546607/typing-3.7.4.3.tar.gz (78kB)\n",
            "\u001b[K     |████████████████████████████████| 81kB 6.1MB/s \n",
            "\u001b[?25hCollecting pycares>=3.0.0\n",
            "\u001b[?25l  Downloading https://files.pythonhosted.org/packages/43/2d/7f4984a23f6e99cf6a8b20ddc59308efb209fe81e79c97af65e9b30eefae/pycares-3.1.1-cp36-cp36m-manylinux2010_x86_64.whl (228kB)\n",
            "\u001b[K     |████████████████████████████████| 235kB 18.6MB/s \n",
            "\u001b[?25hRequirement already satisfied, skipping upgrade: urllib3<2,>=1.21.1 in /usr/local/lib/python3.6/dist-packages (from elasticsearch->twint) (1.24.3)\n",
            "Requirement already satisfied, skipping upgrade: certifi in /usr/local/lib/python3.6/dist-packages (from elasticsearch->twint) (2020.11.8)\n",
            "Requirement already satisfied, skipping upgrade: python-dateutil>=2.7.3 in /usr/local/lib/python3.6/dist-packages (from pandas->twint) (2.8.1)\n",
            "Requirement already satisfied, skipping upgrade: numpy>=1.15.4 in /usr/local/lib/python3.6/dist-packages (from pandas->twint) (1.18.5)\n",
            "Requirement already satisfied, skipping upgrade: pytz>=2017.2 in /usr/local/lib/python3.6/dist-packages (from pandas->twint) (2018.9)\n",
            "Collecting python-socks[asyncio]>=1.0.1\n",
            "  Downloading https://files.pythonhosted.org/packages/36/c1/c24d2e31c15b191c40d2b869468c4bbedafb8ff92609b1c8b35202f86c53/python_socks-1.1.1-py3-none-any.whl\n",
            "Requirement already satisfied, skipping upgrade: geographiclib<2,>=1.49 in /usr/local/lib/python3.6/dist-packages (from geopy->twint) (1.50)\n",
            "Requirement already satisfied, skipping upgrade: requests in /usr/local/lib/python3.6/dist-packages (from googletransx->twint) (2.23.0)\n",
            "Requirement already satisfied, skipping upgrade: idna>=2.0 in /usr/local/lib/python3.6/dist-packages (from idna-ssl>=1.0; python_version < \"3.7\"->aiohttp->twint) (2.10)\n",
            "Requirement already satisfied, skipping upgrade: cffi>=1.5.0 in /usr/local/lib/python3.6/dist-packages (from pycares>=3.0.0->aiodns->twint) (1.14.3)\n",
            "Requirement already satisfied, skipping upgrade: six>=1.5 in /usr/local/lib/python3.6/dist-packages (from python-dateutil>=2.7.3->pandas->twint) (1.15.0)\n",
            "Requirement already satisfied, skipping upgrade: pycparser in /usr/local/lib/python3.6/dist-packages (from cffi>=1.5.0->pycares>=3.0.0->aiodns->twint) (2.20)\n",
            "Building wheels for collected packages: twint, fake-useragent, googletransx, idna-ssl, typing\n",
            "  Building wheel for twint (setup.py) ... \u001b[?25l\u001b[?25hdone\n",
            "  Created wheel for twint: filename=twint-2.1.21-cp36-none-any.whl size=38674 sha256=7a4bdc1bf2d390d2d3ead9ca344664a3f171a4dbbc1d88af3f355b6c27c904fe\n",
            "  Stored in directory: /tmp/pip-ephem-wheel-cache-9iodk3go/wheels/4f/3b/75/62d04b3b446658ba85401e8868d3cd1d4bc22f17ad755460a6\n",
            "  Building wheel for fake-useragent (setup.py) ... \u001b[?25l\u001b[?25hdone\n",
            "  Created wheel for fake-useragent: filename=fake_useragent-0.1.11-cp36-none-any.whl size=13485 sha256=969510e61c81a91072dca08ed787c33ce5e819494ca07a356cd394d9c764b631\n",
            "  Stored in directory: /root/.cache/pip/wheels/5e/63/09/d1dc15179f175357d3f5c00cbffbac37f9e8690d80545143ff\n",
            "  Building wheel for googletransx (setup.py) ... \u001b[?25l\u001b[?25hdone\n",
            "  Created wheel for googletransx: filename=googletransx-2.4.2-cp36-none-any.whl size=15971 sha256=44d667fb4d79de3947e94463e65e666795e415213a8d7e36232ff6e15abeacef\n",
            "  Stored in directory: /root/.cache/pip/wheels/04/63/5f/75e7e94eb62517946116a783e4cd8970c4789c990bbc732616\n",
            "  Building wheel for idna-ssl (setup.py) ... \u001b[?25l\u001b[?25hdone\n",
            "  Created wheel for idna-ssl: filename=idna_ssl-1.1.0-cp36-none-any.whl size=3161 sha256=ee75fa0a735c33243bc4a87e0fafefd3cc708ce61aa6ef67d5a88efe18524bf8\n",
            "  Stored in directory: /root/.cache/pip/wheels/d3/00/b3/32d613e19e08a739751dd6bf998cfed277728f8b2127ad4eb7\n",
            "  Building wheel for typing (setup.py) ... \u001b[?25l\u001b[?25hdone\n",
            "  Created wheel for typing: filename=typing-3.7.4.3-cp36-none-any.whl size=26307 sha256=03a5767d96101032bad7fbb9a3291005a87cd4669c0013a12a3f1941aa22f573\n",
            "  Stored in directory: /root/.cache/pip/wheels/2d/04/41/8e1836e79581989c22eebac3f4e70aaac9af07b0908da173be\n",
            "Successfully built twint fake-useragent googletransx idna-ssl typing\n",
            "Installing collected packages: idna-ssl, async-timeout, multidict, yarl, aiohttp, typing, pycares, aiodns, cchardet, elasticsearch, python-socks, aiohttp-socks, schedule, fake-useragent, googletransx, twint\n",
            "\u001b[33m  WARNING: The script twint is installed in '/root/.local/bin' which is not on PATH.\n",
            "  Consider adding this directory to PATH or, if you prefer to suppress this warning, use --no-warn-script-location.\u001b[0m\n",
            "Successfully installed aiodns-2.0.0 aiohttp-3.7.3 aiohttp-socks-0.5.5 async-timeout-3.0.1 cchardet-2.1.7 elasticsearch-7.10.0 fake-useragent-0.1.11 googletransx-2.4.2 idna-ssl-1.1.0 multidict-5.0.2 pycares-3.1.1 python-socks-1.1.1 schedule-0.6.0 twint-2.1.21 typing-3.7.4.3 yarl-1.6.3\n"
          ],
          "name": "stdout"
        },
        {
          "output_type": "display_data",
          "data": {
            "application/vnd.colab-display-data+json": {
              "pip_warning": {
                "packages": [
                  "typing"
                ]
              }
            }
          },
          "metadata": {
            "tags": []
          }
        }
      ]
    },
    {
      "cell_type": "code",
      "metadata": {
        "id": "_uHbN1D-vf5X"
      },
      "source": [
        "import twint \n",
        "import nest_asyncio \n",
        "nest_asyncio.apply()"
      ],
      "execution_count": null,
      "outputs": []
    },
    {
      "cell_type": "code",
      "metadata": {
        "id": "ItuLmU2BwVMX"
      },
      "source": [
        "import pandas as pd"
      ],
      "execution_count": null,
      "outputs": []
    },
    {
      "cell_type": "code",
      "metadata": {
        "id": "two6Zp0kvoyW",
        "colab": {
          "base_uri": "https://localhost:8080/"
        },
        "outputId": "7cc67386-aa29-48f3-bc6b-e03f704d0880"
      },
      "source": [
        "c = twint.Config()\n",
        "c.Search = 'PresidentialDebate2020'\n",
        "c.Pandas = True\n",
        "c.Limit = 100\n",
        "\n",
        "twint.run.Search(c)"
      ],
      "execution_count": null,
      "outputs": [
        {
          "output_type": "stream",
          "text": [
            "1331507181011824641 2020-11-25 07:57:04 +0000 <_TellyV_> So Biden says he will extend Obama care. . .but wait. . .  #PresidentialDebate2020 #PresidentElectJoe   Biden and Trump face off on health care  https://t.co/YuqCnIgYFS via @YouTube\n",
            "1331451456013135872 2020-11-25 04:15:38 +0000 <AuthorJoeNBrown> Can you find the guy who is envious in the photo ? #NotBiden #ObamaKnows #PresidentialDebate2020  https://t.co/xGIfJzrOvn\n",
            "1331109846469521412 2020-11-24 05:38:12 +0000 <One_Crazy_Ray> Could this be the #DarkWinter #JoeBiden mentioned in the second #PresidentialDebate2020?    https://t.co/lxdoNWCkHy This is a #scary thing Clyde. #WakeUpAmerica   .@ClydeLewis this is your show caller Ray in MI... Tonight's program kicks ass like usual  https://t.co/WtREAXiNye\n",
            "1331071274299363329 2020-11-24 03:04:56 +0000 <CallMe_JDub> Blonde ombré curly wig  https://t.co/73jwPvMJwk via @YouTube #YouTube #CoupleGoals #couplechallenge #MarriedAtFirstSight #viral #DebateTonight #PresidentialDebate2020 #AmazonDeals #LakeShow #ReadyToLove #AmongUs #AmazonPrimeDay #SaturdayVibes #beautiful #beauty #VideoViral\n",
            "1331071175359950850 2020-11-24 03:04:32 +0000 <CallMe_JDub> Blonde ombré curly wig  https://t.co/73jwPvMJwk via @YouTube #YouTube #CoupleGoals #couplechallenge #MarriedAtFirstSight #viral #DebateTonight #PresidentialDebate2020 #AmazonDeals #LakeShow #ReadyToLove #AmongUs #AmazonPrimeDay #SaturdayVibes #beautiful #beauty\n",
            "1330959559431647233 2020-11-23 19:41:01 +0000 <TracyMMPohill> He lies too, imo he did have 8 years to make a difference and he didn't, and he did help the #PresidentialDebate2020 build the cages, he didn't answer the question! Anyone listening? I was😱\n",
            "1330583913194946562 2020-11-22 18:48:20 +0000 <AlyceGoodale> @ChrisChristie is a #NationalEmbarrassment How could he support @realDonaldTrump during the #PresidentialDebate2020 just to bail on him for??? I can only guess $$$$$\n",
            "1330564819892756485 2020-11-22 17:32:28 +0000 <DennisClend23> @JennaEllisEsq Why do you go on like this? It was the safest election in American history, get over it Biden won fair and square. #ByeDon #PresidentialDebate2020\n",
            "1330545450315898882 2020-11-22 16:15:30 +0000 <cmkizito> Some one should tell me wheather #UG #PresidentialDebate2020  will held. #UgVotes2021 #UgandaDecides2021\n",
            "1330494247208972295 2020-11-22 12:52:02 +0000 <Real_Ransome> @DavidJHarrisJr I know it's a different context but \"WHO BUILD THE CAGES\"  #PresidentialDebate2020\n",
            "1330316369678770178 2020-11-22 01:05:13 +0000 <jayingassjae> Forreal y’all be safe these crazy ppl on some other shxt. #PresidentialDebate2020\n",
            "1330269116737982474 2020-11-21 21:57:27 +0000 <candigirl615>  https://t.co/fFHxI6D634  #PlayStation5 #PresidentialDebate2020 #Thanksgiving #SaturdayMorning #ShouldBeInTheConstitution #PinkFriday10\n",
            "1330243684059713537 2020-11-21 20:16:23 +0000 <ITsssMEEhint66> 😘❤❤❤❤❤🙄🎈😎 @sarahcpr #loveandhugs  #dcwashington #rememberthevictims #covid19 #BlackLivesMatter   ##election2020 #electionfraud #disgusting  #presidentialdebate2020\n",
            "1330217134765600771 2020-11-21 18:30:53 +0000 <CastleNutty> @Sifill_LDF Look like Prez Trump is sending a CLEAR message that he's done MORE for BLACKS than any other prez besides Honest Abe! #presidentialdebate2020   BTW, by denying Blacks #Vote2020, Prez is also denying NON-Blacks #Vote!   Did you see why #BLM? It affects #AllLivesMatter too!!!\n",
            "1330197293551800330 2020-11-21 17:12:03 +0000 <CastleNutty> @Yamiche Ah! Yes... Prez Trump reinforced his claim in #PresidentialDebate2020... He's DONE more for Blacks than any other prez besides Honest Abe!  He added \"ONE MORE\" by denying Majority Blacks votes.  Don't forget by doing that, he ALSO denying non-Black votes!!! That is why #BLM!\n",
            "1330008259135107078 2020-11-21 04:40:53 +0000 <Inthehighest1> #ibmwatsonhello you need to close two adds to watch the movie being made off the timeline and current events #PowerGhost #PowerBook2 #PowerTV #CharmCityKings #rp aka #mj #PresidentialDebate2020 #Debates2020 #voteordie #ElectionDay #ElectionNight #Elections2020  #Election2020\n",
            "1329846389820547076 2020-11-20 17:57:41 +0000 <BigFauci> Last night’s #verzuz was more civil than the first #PresidentialDebate2020 😂\n",
            "1329800132704018433 2020-11-20 14:53:52 +0000 <aharrisTV> Friend: “We need a white verzuz battle.”  Stranger: “We had a white verzuz already. It was those presidential debates.”   😂😂😂 @verzuzonline #VERZUZ  #PresidentialDebate2020\n",
            "1329790936931512321 2020-11-20 14:17:20 +0000 <ur_twitt> #MINECRAFTHITMEN #minecraft #Election2020 #ElectionResults2020 #DonaldTrump #JoeBiden #PresidentialDebate2020 #MinecraftServer #pvp #trumpvsbidenfight #TrumpvsBiden #2020Election #TrumpvsBiden  https://t.co/q21mx7FHk5\n",
            "1329623620805664769 2020-11-20 03:12:29 +0000 <StillWes81> How was this #VERZUZ more civil than the #PresidentialDebate2020\n",
            "1329623265841655809 2020-11-20 03:11:04 +0000 <KingXing_> This is getting very interesting 🤔 #VERZUZ this #jeezyvsgucci this is better then the #NFL #PresidentialDebate2020 #ESPNPlus\n",
            "1329623079962750976 2020-11-20 03:10:20 +0000 <shuggashanee_> This #jeezyvsgucci is like the #PresidentialDebate2020 😂😂\n",
            "1329611449048719362 2020-11-20 02:24:07 +0000 <KingXing_> #JeezyvsGucciMane This is better then the #PresidentialDebate2020 #verzus 😩\n",
            "1329550906787057664 2020-11-19 22:23:32 +0000 <CraigSmartMusic> I'm like..... What about you? . . . . . . . . . . #debatenight #presidentialdebate2020 #demdebate #speechanddebate #debate2016 #presidentialdebate #debate #debates #democraticdebate #debategram  https://t.co/dzW2DH1f6a\n",
            "1329371712224333825 2020-11-19 10:31:29 +0000 <Inthehighest1> @IBMDeveloper #ibmwatsonhello you need to close two adds to watch the movie being made off the timeline and current events #PowerGhost #PowerBook2 #PowerTV #CharmCityKings #rp aka #mj #PresidentialDebate2020 #Debates2020 #voteordie #ElectionDay #ElectionNight #Elections2020  #Election2020\n",
            "1329324370423066627 2020-11-19 07:23:22 +0000 <creativenglishh> 💙❤💚#Azerbaijan #Freedom #PresidentialDebate2020 Mirror  https://t.co/GfneAytZRe\n",
            "1329219045711876100 2020-11-19 00:24:50 +0000 <ItsRonaBitches> The Republicans orange God shows his patriotism by attempting to destroy the country before another president takes office. This behavior IS the Republican party in a nutshell. #25thAmendmentNow #Republicans #PresidentialDebate2020 #bidenharis2020 #abolishrepublicans\n",
            "1329168679246827520 2020-11-18 21:04:42 +0000 <Inthehighest1> @Xbox  https://t.co/MrzoKREvJ8 Tweeted a movie here #rp aka #mj #ibmwatsonhello #iot #darpa #nsa #rpx #IMAXRegalSweeps #imax #robonaut #ar #vr #dod #blockchain #MixedReality #AI #fbi #cia #regalmovies #usc #narcosmexico #mcu #dccomics #PresidentialDebate2020 #debates #Debate2020\n",
            "1329168616076365824 2020-11-18 21:04:27 +0000 <Inthehighest1> @Xbox Best if viewed on Desktop or  @Chromecast to your home theater big screen system #rp aka #mj #ibmwatsonhello #iot #darpa #nsa #rpx #IMAXRegalSweeps #imax #robonaut #ar #vr #dod #blockchain #MixedReality #AI #fbi #cia #regalmovies #usc  #mcu #dccomics #PresidentialDebate2020\n",
            "1329042044208238592 2020-11-18 12:41:30 +0000 <VerzideGF>  https://t.co/BpjMIkm0qv  #giveaway #optifine #cape #minecraft #Stimp #Gangster #Minecon #Verzide #yo #PresidentialDebate2020\n",
            "1328956729195945984 2020-11-18 07:02:29 +0000 <Inthehighest1> @MarilynM_Melo  https://t.co/OwF9JNXyT1 Tweeted a movie here #rp aka #mj #ibmwatsonhello #iot #darpa #nsa #rpx #IMAXRegalSweeps #imax #robonaut #ar #vr #dod #blockchain #MixedReality #AI #fbi #cia #regalmovies #usc #narcosmexico #mcu #dccomics #PresidentialDebate2020 #debates #Debate2020\n",
            "1328956700834091008 2020-11-18 07:02:22 +0000 <Inthehighest1> @MarilynM_Melo Best if viewed on Desktop or  @Chromecast to your home theater big screen system #rp aka #mj #ibmwatsonhello #iot #darpa #nsa #rpx #IMAXRegalSweeps #imax #robonaut #ar #vr #dod #blockchain #MixedReality #AI #fbi #cia #regalmovies #usc  #mcu #dccomics #PresidentialDebate2020\n",
            "1328953220572598278 2020-11-18 06:48:33 +0000 <Inthehighest1> @LupeFiasco  https://t.co/OwF9JNXyT1 Tweeted a movie here #rp aka #mj #ibmwatsonhello #iot #darpa #nsa #rpx #IMAXRegalSweeps #imax #robonaut #ar #vr #dod #blockchain #MixedReality #AI #fbi #cia #regalmovies #usc #narcosmexico #mcu #dccomics #PresidentialDebate2020 #debates #Debate2020\n",
            "1328953182995812354 2020-11-18 06:48:24 +0000 <Inthehighest1> @LupeFiasco Best if viewed on Desktop or  @Chromecast to your home theater big screen system #rp aka #mj #ibmwatsonhello #iot #darpa #nsa #rpx #IMAXRegalSweeps #imax #robonaut #ar #vr #dod #blockchain #MixedReality #AI #fbi #cia #regalmovies #usc  #mcu #dccomics #PresidentialDebate2020\n",
            "1328952435449212929 2020-11-18 06:45:26 +0000 <Inthehighest1> @justbeingLV  https://t.co/OwF9JNXyT1 Tweeted a movie here #rp aka #mj #ibmwatsonhello #iot #darpa #nsa #rpx #IMAXRegalSweeps #imax #robonaut #ar #vr #dod #blockchain #MixedReality #AI #fbi #cia #regalmovies #usc #narcosmexico #mcu #dccomics #PresidentialDebate2020 #debates #Debate2020\n",
            "1328952370265526279 2020-11-18 06:45:10 +0000 <Inthehighest1> @justbeingLV Best if viewed on Desktop or  @Chromecast to your home theater big screen system #rp aka #mj #ibmwatsonhello #iot #darpa #nsa #rpx #IMAXRegalSweeps #imax #robonaut #ar #vr #dod #blockchain #MixedReality #AI #fbi #cia #regalmovies #usc  #mcu #dccomics #PresidentialDebate2020\n",
            "1328741158730821634 2020-11-17 16:45:53 +0000 <pinkybluetick> @tedcruz @SherrodBrown @DanSullivan_AK Remember when somebody at a certain #PresidentialDebate2020 ridiculed a certain someone for wearing a big ol' mask? Be careful who you mock, you bum-licker. #GodDontLikeUgly\n",
            "1328701660894552064 2020-11-17 14:08:56 +0000 <MsFierCe86> So my question is, you rather pay millions of dollars for recounts but can’t pay for country to survive Covid 19. Like what sense does this make 🤦🏽‍♀️😒 where was this money when people was losing their homes!   #Election2020 #Covid #PresidentialDebate2020 #question #dumb\n",
            "1328686882604142593 2020-11-17 13:10:13 +0000 <LuisLebron_1> They better have the best of the best to check for fraud. Just because @CNN says that there is no fraud does not mean that it does not exist. #PresidentialDebate2020 #StopTheSteaI\n",
            "1328568327585869824 2020-11-17 05:19:07 +0000 <Inthehighest1> @LindseyPelas  https://t.co/17XuImP1R8 Tweeted a movie here #rp aka #mj #ibmwatsonhello #iot #darpa #nsa #rpx #IMAXRegalSweeps #imax #robonaut #ar #vr #dod #blockchain #MixedReality #AI #fbi #cia #regalmovies #usc #narcosmexico #mcu #dccomics #PresidentialDebate2020 #debates #Debate2020\n",
            "1328568211055394816 2020-11-17 05:18:39 +0000 <Inthehighest1> @LindseyPelas Best if viewed on Desktop or  @Chromecast to your home theater big screen system #rp aka #mj #ibmwatsonhello #iot #darpa #nsa #rpx #IMAXRegalSweeps #imax #robonaut #ar #vr #dod #blockchain #MixedReality #AI #fbi #cia #regalmovies #usc  #mcu #dccomics #PresidentialDebate2020\n",
            "1328478202835070981 2020-11-16 23:21:00 +0000 <laurensociology> Voting is a very important topic to go over in the United States. It determines who will run our country and what propositions get passed or not. It changes the some people’s views on race, sex, and/or gender. #Election2020 #PresidentialDebate2020 #equality #FSSoc  https://t.co/YXt5HJ5UF8\n",
            "1328469734996709376 2020-11-16 22:47:21 +0000 <Fsavey> #PresidentialDebate2020\n",
            "1328457809307037696 2020-11-16 21:59:57 +0000 <angela_90_> Jajaja #PresidentialDebate2020  #PeruTeQuieroPorEsoTeDefiendo\n",
            "1328383787617619968 2020-11-16 17:05:49 +0000 <DianeWa92760170> Looks pretty clear to me.. #PresidentialDebate2020  https://t.co/j6pHhWR30b\n",
            "1328334016479682561 2020-11-16 13:48:03 +0000 <Woolielove> #PresidentElectJoe  #PresidentialDebate2020  #fraud  https://t.co/Ogq2mguYDO\n",
            "1328233741320290304 2020-11-16 07:09:35 +0000 <Inthehighest1> @DenyceLawton  https://t.co/Xm4ZXFf3bu Tweeted a movie here #rp aka #mj #ibmwatsonhello #iot #darpa #nsa #rpx #IMAXRegalSweeps #imax #robonaut #ar #vr #dod #blockchain #MixedReality #AI #fbi #cia #regalmovies #usc #narcosmexico #mcu #dccomics #PresidentialDebate2020 #debates #Debate2020\n",
            "1328233682952327169 2020-11-16 07:09:22 +0000 <Inthehighest1> @DenyceLawton Best if viewed on Desktop or  @Chromecast to your home theater big screen system #rp aka #mj #ibmwatsonhello #iot #darpa #nsa #rpx #IMAXRegalSweeps #imax #robonaut #ar #vr #dod #blockchain #MixedReality #AI #fbi #cia #regalmovies #usc  #mcu #dccomics #PresidentialDebate2020\n",
            "1328213158901682176 2020-11-16 05:47:48 +0000 <Inthehighest1> @jimmyfallon @bts_bighit Best if viewed on Desktop or  @Chromecast to your home theater big screen system #rp aka #mj #ibmwatsonhello #iot #darpa #nsa #rpx #IMAXRegalSweeps #imax #robonaut #ar #vr #dod #blockchain #MixedReality #AI #fbi #cia #regalmovies #usc  #mcu #dccomics #PresidentialDebate2020\n",
            "1328212922208645126 2020-11-16 05:46:52 +0000 <Inthehighest1> @LindseyPelas  https://t.co/nfLIi9l777 Tweeted a movie here #rp aka #mj #ibmwatsonhello #iot #darpa #nsa #rpx #IMAXRegalSweeps #imax #robonaut #ar #vr #dod #blockchain #MixedReality #AI #fbi #cia #regalmovies #usc #narcosmexico #mcu #dccomics #PresidentialDebate2020 #debates #Debate2020\n",
            "1328212869855416321 2020-11-16 05:46:39 +0000 <Inthehighest1> @LindseyPelas Best if viewed on Desktop or  @Chromecast to your home theater big screen system #rp aka #mj #ibmwatsonhello #iot #darpa #nsa #rpx #IMAXRegalSweeps #imax #robonaut #ar #vr #dod #blockchain #MixedReality #AI #fbi #cia #regalmovies #usc  #mcu #dccomics #PresidentialDebate2020\n",
            "1328205867708260357 2020-11-16 05:18:50 +0000 <CenteramericanM> At this point, this is delusional #ElectionResults2020 #PresidentialDebate2020\n",
            "1328189385972588545 2020-11-16 04:13:20 +0000 <alegambinii> #WilsonElMejor #larguensetodos #quieneslamascara #MerinoJamasSeraMiPresidente #PresidentialDebate2020 #EsteCongresoNoMeRepresenta #Merinonomerepresenta\n",
            "1328133905212387329 2020-11-16 00:32:53 +0000 <danielaolmosfe1> La mayoría de nosotros NO come del presidente de turno...#PresidentialDebate2020 #nuevaconstitucionparachile\n",
            "1328103568214265858 2020-11-15 22:32:20 +0000 <Sprtsfnusa> #megamillionmarch #PresidentialDebate2020 #PRESIDENTTRUMP #POTUS #JoeBidenKamalaHarris2020 #BlackLivesMatter #EDWARDSNOWDEN #BARRIETROWER #JERRYDAY #EMINENCEPROBS #JOEROGAN #THETODAYSHOW #CNN #FOXNEWS  #PRIVACY #MICROWAVES #SMARTMETERDANGERS  #VOYEURISM  #NOPRIVACY  https://t.co/iVo9eF2B2p\n",
            "1328044161409323009 2020-11-15 18:36:16 +0000 <MammaOzzy> Just heard you can make your own 2020 presidential campaign slogan using: 1.) Last name 2.) 2020 3.) Last text you sent  Here’s mine... 🇺🇸 Osmera 2020/ I Know 🇺🇸  😆😆😆😆.   #PresidentialDebate2020\n",
            "1328014385852293121 2020-11-15 16:37:57 +0000 <kmwong28> \"I won't be president.\"  Fake News Media come and quote it. It's Big News here 💣💥  #SleepyJoe you don't have to wear a mask because you always have a mask on your face in front of the camera😷   #PresidentialDebate2020  #PresidentialElection2020  #ElectionFruad2020\n",
            "1327989137878769670 2020-11-15 14:57:37 +0000 <BertrandOiana> #PresidentialDebate2020 @teolille47 Le sujet de l'environnement entre en jeu\n",
            "1327957555935465472 2020-11-15 12:52:08 +0000 <met4wins_> This precious smile 🥺💖 #winmetawin #PresidentialDebate2020\n",
            "1327956764608917504 2020-11-15 12:48:59 +0000 <margann63> Tough shit #PresidentialDebate2020\n",
            "1327763467126927365 2020-11-15 00:00:53 +0000 <MargaretMcDole4> #PresidentialDebate2020  https://t.co/FGElRJPNYd\n",
            "1327735145332346880 2020-11-14 22:08:21 +0000 <francisnunezrd> #PresidentialDebate2020 @luisabinader @Telemundo @telesistema11rd @SIN24Horas @VinicioSenador\n",
            "1327711993541771264 2020-11-14 20:36:21 +0000 <Inthehighest1> #ibmwatsonhello you need to close two adds to watch the movie being made off the timeline and current events #PowerGhost #PowerBook2 #PowerTV #CharmCityKings #rp aka #mj #PresidentialDebate2020 #AMAs2020  #voteordie #ElectionDay #ElectionNight #Elections2020  #Election2020 #amas\n",
            "1327708949936705536 2020-11-14 20:24:15 +0000 <_bpiv> @citrustwee #Love #ShopeexGOT7_DyeVirtualFansign #OOTD #PresidentialDebate2020 ❤️🥰\n",
            "1327680826956521472 2020-11-14 18:32:30 +0000 <americanhowl> We all knew..just couldn't prove it. Here it is...#PresidentialDebate2020 cheat.   https://t.co/LSoFUf5BSF\n",
            "1327615792993755139 2020-11-14 14:14:05 +0000 <Night_R4ven> #PresidentialDebate2020 #PresidentialElection  I have won the election by a lot, it was 538 to 0 I am the president now\n",
            "1327552779192176641 2020-11-14 10:03:41 +0000 <Patrikaidotcom> அனைத்து அமெரிக்கர்களுக்கும் 2021 ஏப்ரலில் கொரோனா தடுப்பு மருத்து: அதிபர் டிரம்ப்  https://t.co/xPjFtwmUkM @realDonaldTrump @JoeBiden #coronavirus #Corona #vaccine #readycoming #weeks #claims #PresidentialDebate2020\n",
            "1327539777600630784 2020-11-14 09:12:02 +0000 <LadybugCharms> #JOEBIDEN2020 #WINNER #ElectionDay #PresidentElectJoe #PresidentialDebate2020 #PresidentBiden  https://t.co/JnHA2Y7ei7\n",
            "1327536003553370115 2020-11-14 08:57:02 +0000 <ChristianIsah> Quality information births innovations. #MotivationalQuotes #Worlds2020 #inspirational #investment #BelieveToAchieve #motivational #LeadershipMatters #leadershipofservice #PeoplePower #Naija #EndBadGoveranceInNigeria #EndSARS #gifted #PresidentialDebate2020  https://t.co/BOeXrHzxEq\n",
            "1327517635072970752 2020-11-14 07:44:02 +0000 <FullOfQuestionz>  https://t.co/SgJGN7UMsE #PresidentialDebate2020 #remix @TeeLee701  Hello, Mrs. Lisa. I hope this gives you a chuckle.\n",
            "1327511164218077185 2020-11-14 07:18:20 +0000 <Inthehighest1> @VMware @vmtocloud  https://t.co/ikEoKVKBZ1 Tweeted a movie here #rp aka #mj #ibmwatsonhello #iot #darpa #nsa #rpx #IMAXRegalSweeps #imax #robonaut #ar #vr #dod #blockchain #MixedReality #AI #fbi #cia #regalmovies #usc #narcosmexico #mcu #dccomics #PresidentialDebate2020 #debates #Debate2020\n",
            "1327511108798742529 2020-11-14 07:18:06 +0000 <Inthehighest1> @VMware @vmtocloud Best if viewed on Desktop or  @Chromecast to your home theater big screen system #rp aka #mj #ibmwatsonhello #iot #darpa #nsa #rpx #IMAXRegalSweeps #imax #robonaut #ar #vr #dod #blockchain #MixedReality #AI #fbi #cia #regalmovies #usc  #mcu #dccomics #PresidentialDebate2020\n",
            "1327480917523390464 2020-11-14 05:18:08 +0000 <6Manimal9> #Obama #WhatDoYouThink #PresidentialDebate2020 #TrumpMeltdown  https://t.co/WSWyTyofBK\n",
            "1327469801409830913 2020-11-14 04:33:58 +0000 <UsmanSh47046374> #Pakistan 🇵🇰  #PakistanZindabad  #Usman_Tweet  #PresidentialDebate2020 Imran khan is alone lion. He is brave and realistic. If he go his own vision (except army) than he will succeed too soon. The other one is the pride of great city Islamabad.  https://t.co/1rWht1BRPh\n",
            "1327459899027034112 2020-11-14 03:54:37 +0000 <JeffreyJkelly1>  https://t.co/zUXW3eIoVs  #rapmusic #Election2020 #trumpbiden #erb #PresidentialDebate2020\n",
            "1327444988674908161 2020-11-14 02:55:22 +0000 <Sprtsfnusa> Barrie Trower on Microwave Weapons  https://t.co/VcSqZ47bAp via @YouTube #BARRIETROWER  #EDWARDSNOWDEN #WISH8 #EMINENCEPROBS  #PresidentialDebate2020  WHY ARENT THE PRESIDENT AND ELECT TALKING ABOUT 5G MICROWAVES? MAYBE BECAUSE THEIR TO BUSY BULLSHITTING YOU ABOUT COVID 😷😷🍆💦💦\n",
            "1327403235922096129 2020-11-14 00:09:28 +0000 <Bobby_Couto> What are the mathematical odds of this? #PresidentialDebate2020\n",
            "1327392510075936768 2020-11-13 23:26:50 +0000 <chairmatesttv> @KamalaHarris v. @VP Pence: Debut of the VP Fly during our debate stream #PresidentialDebate2020 #VPDebate #vpdebatefly  https://t.co/BUYQzwM15D\n",
            "1327307597146329088 2020-11-13 17:49:25 +0000 <smHandsomeMarie> #PresidentialDebate2020 #BidenHarris2020  https://t.co/CAcdj2pbO8\n",
            "1327267306989363201 2020-11-13 15:09:20 +0000 <awomanszworth> Recap on the debate and this quote was it for me “ I am the least racist person in this room” says the one that will be evicted in January #PresidentialDebate2020  #BidenHarris2020  https://t.co/qcAhKn4dIs\n",
            "1327240579399495682 2020-11-13 13:23:07 +0000 <AstreaPodemos> Es que no hay que gastar el dinero en lo que se supone que se debe gastar,mejor que dejemos al Pp que lo robe y se lo lleve a paraísos fiscales. O en pvticlubs y Corinnas,en Abu Dabi porque sabe JC como gastarlo 🤷‍♀️ #PresupuestoDeTodos #PresupuestosDeLaETA #PresidentialDebate2020\n",
            "1327220852769734658 2020-11-13 12:04:44 +0000 <Aziztop15> #JoeBiden Costumes😁 https://t.co/FxfDbu3J5x  #JOEBIDEN2020 #joe #JoeBidenKamalaHarris2020  #joebuck #FridayThe13th #PresidentialDebate2020 #worldkindnessday2020  https://t.co/BA9FNBA5Us\n",
            "1327218419981316096 2020-11-13 11:55:04 +0000 <Aziztop15> #JoeBiden T-shirt 😆😁😂😚 #JOEBIDEN2020 #joe #JoeBidenKamalaHarris2020  #joebuck #FridayThe13th #PresidentialDebate2020 #worldkindnessday2020 #  https://t.co/YfvfaMZ9IN\n",
            "1327218114199650304 2020-11-13 11:53:51 +0000 <Jon_M_W_Richard> #BidenHarris2020  #PresidentialDebate2020 #FalseFlags  https://t.co/hCoijSLEgt\n",
            "1327116572993970178 2020-11-13 05:10:22 +0000 <AndreavlCaro> Te entiendo Vizcarra jajajajaa! Pero por algo pasan las cosas, fuiste un buen presii!!!! #MerinoNoNosRepresentas  #VizcarraEsMiPresidente  #PresidentialDebate2020  https://t.co/lRcAvfsfEi\n",
            "1327042170403086336 2020-11-13 00:14:43 +0000 <ladylusxious28> @CHEVYWOODS #PresidentialDebate2020 #Vote2020 #PresidentAiken  https://t.co/VIRmYybVYg\n",
            "1327023785447481344 2020-11-12 23:01:40 +0000 <outdoors_love30> #PresidentElectJoe #PresidentialDebate2020 #TrumpIsPathetic\n",
            "1327012947130945536 2020-11-12 22:18:35 +0000 <amazing_miracle> This disclaimer that voter fraud is exceedingly rare doesn't mean it didn't occur. Why the need to put disclaimers like this @twitter? #PresidentialDebate2020 #JOEBIDEN  https://t.co/5VhYLNgfzS\n",
            "1326980251000377344 2020-11-12 20:08:40 +0000 <RzReck> Reckless2020 #PresidentialDebate2020 #presidentelection #reckless2020 #fortnite #vote #Vote2020  https://t.co/xbdVifRVD5\n",
            "1326969169665986561 2020-11-12 19:24:38 +0000 <2BeBluntPodcast> New episode tonight 11/12/20!!! #podcastlife  #podcasts #podcaster #podcasting #presidentialdebate2020 #trump2020 #biden2020 #sports #viral #news #prowrestling #comedy #stoner #stonernation #stoners #2beblunt  https://t.co/C6jnw0ED8g\n",
            "1326955372603695104 2020-11-12 18:29:49 +0000 <SuzieLSnowHarr1> #TeamTrump https: #PresidentialDebate2020/ #PresidentDonaldTrump/ //vm.tiktok.com/ZMJ9uh5yn/\n",
            "1326921764040024065 2020-11-12 16:16:16 +0000 <MubetseFrank> You ain't alone on this fellow Trillionaire #ROCKUg #FinancialLiberation #PresidentJosephKabuleta #PresidentialDebate2020\n",
            "1326898662765686788 2020-11-12 14:44:28 +0000 <LibrarianNancy> @realDonaldTrump Concede. Arizona's Republican AG confirmed #PresidentialDebate2020 won there. #concede #ImpeachedOneTermPresident\n",
            "1326879104231043072 2020-11-12 13:26:45 +0000 <Inthehighest1> @KekePalmer  https://t.co/LlVE5rQ8QA Tweeted a movie here #rp aka #mj #ibmwatsonhello #iot #darpa #nsa #rpx #IMAXRegalSweeps #imax #robonaut #ar #vr #dod #blockchain #MixedReality #AI #fbi #cia #regalmovies #usc #narcosmexico #mcu #dccomics #PresidentialDebate2020 #debates #Debate2020\n",
            "1326878879538008064 2020-11-12 13:25:51 +0000 <Inthehighest1> @KekePalmer Best if viewed on Desktop or  @Chromecast to your home theater big screen system #rp aka #mj #ibmwatsonhello #iot #darpa #nsa #rpx #IMAXRegalSweeps #imax #robonaut #ar #vr #dod #blockchain #MixedReality #AI #fbi #cia #regalmovies #usc  #mcu #dccomics #PresidentialDebate2020\n",
            "1326875835991683084 2020-11-12 13:13:46 +0000 <Inthehighest1> #ibmwatsonhello you need to close two adds to watch the movie being made off the timeline and current events #PowerGhost #PowerBook2 #PowerTV #CharmCityKings #rp aka #mj #PresidentialDebate2020 #Debates2020 #voteordie #ElectionDay #ElectionNight #Elections2020  #Election2020\n",
            "1326855891480530944 2020-11-12 11:54:30 +0000 <Tasha11791361> Peace Tweeters #PresidentBiden2020 #PresidentElectBiden #PresidentElectChallenge #PresidentialDebate2020  https://t.co/RRtQq8BZHY\n",
            "1326850489682714625 2020-11-12 11:33:03 +0000 <mubazieric> President-elect Biden gives his thoughts on Trump's refusal to concede: \"I just think it's an embarrassment, quite frankly... It will not help the President's legacy.\"  #BidenHarris2020  #PresidentElectBiden  #PresidentialDebate2020  https://t.co/M4QNNerM0q\n",
            "1326819790569304065 2020-11-12 09:31:03 +0000 <MalvinKeoke> BI-DEN!!!! #PresidentialDebate2020\n",
            "1326798963320762370 2020-11-12 08:08:18 +0000 <4joachim> @foxnews fail for America @FoxNewsSunday chris wallace cheated every honest person who watched #PresidentialDebate2020   #2020Election calls were fixed\n",
            "1326783526138679296 2020-11-12 07:06:57 +0000 <michelalnsdz> Imaginez le Président de la FR c un marseillais ahahaha y’a déjà eu vous pensez ? genre Macron il a l’accent du sud &amp; il est assit sur son fauteuil dans l’Elysée &amp; s’en blc de Paris ahaha #PresidentialDebate2020\n",
            "1326752657361543179 2020-11-12 05:04:18 +0000 <james_selomo> Mr president we appreciate last night s family but I feel it is a trap for another strong lockdown regulations soon before the 15th December #PresidentialDebate2020 #Election2020 #Ramaphosa #lockdown #LockdownSA\n",
            "1326744603538710529 2020-11-12 04:32:17 +0000 <JaykeTheFennec> She’s happy it’s over #PresidentElectBiden #PresidentialDebate2020  https://t.co/vLR9C7hDtj\n",
            "1326739736338313216 2020-11-12 04:12:57 +0000 <SrLisboa2> #Claudia tô esperando a participação das amigas referências #PresidentialDebate2020\n",
            "1326728616777015296 2020-11-12 03:28:46 +0000 <Dominoesbey> #CMAs #WizkidFC #candaceowens #donaldtrump @RealCandaceO put #Michelleobama on blast 😂🤣 #PresidentialDebate2020  https://t.co/QtTl0WBXXA\n",
            "1326724248120012800 2020-11-12 03:11:24 +0000 <tonndsouzza> @emicida ÁLBUM DO ANO #AMARELO CARALHOOOOOOO #PresidentialDebate2020\n",
            "1326719459008999425 2020-11-12 02:52:22 +0000 <BoxxiDraws> Redraw of the doodle I did during the first debate. #presidentialdebate2020 #satiricalcartoon #satire #cartoon #boxxidraws  https://t.co/HZqY0oKILd\n",
            "1326714965756162050 2020-11-12 02:34:31 +0000 <LindmanDiary> IS TRUMP LYING???  https://t.co/QUvurZcY95 #TRUMP #LIE #PresidentialDebate2020 #DonaldTrump #LOVEDONALD #BidenHarris2020\n",
            "1326692717292781568 2020-11-12 01:06:07 +0000 <WeAreLaNews> Tune in we are live  https://t.co/HKB1aSwHtZ  #elections #PresidentialDebate2020 #Trump\n",
            "1326664200240852992 2020-11-11 23:12:48 +0000 <Chowkidar_RVD> US PRESIDENT TRUMP TWEETS: WE WILL WIN!  WHAT EXACTLY HE IS REFERRING TO? #USAElections2020  #PresidentialDebate2020  #usafacts  #JOEBIDEN2020  #TrumpConcede\n",
            "1326647325456883712 2020-11-11 22:05:44 +0000 <Sally092074> The stuff these @realDonaldTrump supporters say is just gross! Most are followers and the others are ignorant! They all need to realize @JoeBiden WON and that’s that! #PresidentialDebate2020 #AmericaDecides2020 #BidenHarrisForAmerica #BidenHarris2020ToRestoreHonorAndDecency\n",
            "1326635256867418112 2020-11-11 21:17:47 +0000 <VeritasDolor> Nice map #Election2020 #Trump2020 #ElectionResults2020 #electionFraud #presidentElect #PresidentialDebate2020    https://t.co/y2gBkJGIjU\n",
            "1326634671942356993 2020-11-11 21:15:28 +0000 <PhoenixFigure> It’s like politics right now is the game Among Us. And the imposters (democrats) are trying to kill the crew mates (republicans) to stay alive and win the game (destroying us) #democrats #republicans #PresidentialDebate2020 #trump #biden #harris #pence #VoteBlueToEndTheNightmare\n",
            "1326621360437616640 2020-11-11 20:22:34 +0000 <Health365Beauty> Our president Joe Biden. He is the boss. #Americans #AmericaOrTrump #JoeBiden #JoeBidenPresidentElect #JOEBIDEN2020 #JoeBidenKamalaHarris2020 #PresidentialDebate2020 #PresidentialElection2020  https://t.co/Q0XI2R4vn9\n",
            "1326611742982463489 2020-11-11 19:44:21 +0000 <mommaboz1> @GovMikeHuckabee Joe Biden in September: I will Not Declare Victory Until the Election Is Independently Certified  #PresidentialDebate2020    https://t.co/tiNrGt8fW6\n",
            "1326596196316614657 2020-11-11 18:42:34 +0000 <hekatoor> Are we only recounting states he Lost or are we recounting the ones he won aswell -_- ..........   #convenient #DumpTrump2020 #BidenHarris2020 #ElectionDay #PresidentialDebate2020\n",
            "1326595717218054150 2020-11-11 18:40:40 +0000 <tajionline> Looking for festive season presents 🎁 check out  https://t.co/LP8hRsKWHz for all your beauty tool needs ✨🌻   #skin #beautyproducts #taji #fentybeauty #tajibeautyproducts #tajibeauty #guasha #obsidianroller #skincareroutine #cyrilramaphosa #Cyril #PresidentialDebate2020  https://t.co/lA1Wg5g6XF\n",
            "1326594664233840646 2020-11-11 18:36:29 +0000 <katliwa_lepower> Black ke colour ya manyora .....   Nna i could even start today my President @CyrilRamaphosa #FellowSouthAfricans #LockdownLessons #LockdownSA #PresidentialDebate2020 #President  https://t.co/2xjgifb15y\n",
            "1326592654583402497 2020-11-11 18:28:30 +0000 <TheCiscoKid6> I 💭Trump can’t #shutupman  So in #PresidentialDebate2020  Annoyed #PresidentElectBiden  You reflect,  👋“he doesn’t know 👋👋 👋👋how to do that”. 👋👋 #46thPresidentBiden &amp; #1stWomanVicePresident  Have2: End #TrumpHissyFit  Lastly : #LOCKupTRUMP Losing the game  One resigns.\n",
            "1326589980534255621 2020-11-11 18:17:52 +0000 <katliwa_lepower> #FellowSouthAfricans #PresidentialDebate2020 #President #LockdownSA #PresidentialAddress   Rest Bafwethu Rest ...🤣😂😂🤣🤣🤣😂😂😂🤣  https://t.co/KVpzr4KC4c\n",
            "1326589931578388481 2020-11-11 18:17:41 +0000 <MManganyi04> Mr president what were you eating we can see your lips🤔🤔  #eNCA  #PresidentialDebate2020  #LockdownSA\n",
            "1326586056154750976 2020-11-11 18:02:17 +0000 <katliwa_lepower> @CyrilRamaphosa  its nice seeing u again Daddy #PresidentialDebate2020  https://t.co/RCWn9CY1QF\n",
            "1326580095155380224 2020-11-11 17:38:36 +0000 <hustler_mind> THM Books is a mobile bookstore selling self-published authors.   DM or WhatsApp 0814637321 for books.  Delivery and courier services available   #THMBooks #PresidentialDebate2020 #ukuthwala  https://t.co/bYJTkeWCQe\n",
            "1326574468605616134 2020-11-11 17:16:14 +0000 <zhjea_klarity> I heard #blackindian brauds poppin right now, teheet....#VicePresidentElectHarris #VicePresident #vote #VeteransDay2020 #VeteransDay #PresidentialElection #PresidentialDebate2020\n",
            "1326572712496570368 2020-11-11 17:09:15 +0000 <GerrybombS> @Celina46407233 @CBSNews Lord, girl....#PresidentialDebate2020\n",
            "1326563219176099840 2020-11-11 16:31:32 +0000 <BloggingKing1>  https://t.co/454HbfbEMR #PresidentialDebate2020\n",
            "1326562511232118785 2020-11-11 16:28:43 +0000 <saber11ghost> Nothing is impossible #PresidentialDebate2020\n",
            "1326518005908475906 2020-11-11 13:31:52 +0000 <mommaboz1> @StevePieczenik Joe Biden in September: I will Not Declare Victory Until the Election Is Independently Certified #PresidentialDebate2020    https://t.co/tiNrGt8fW6\n",
            "1326511192068804611 2020-11-11 13:04:48 +0000 <ldl727> #PresidentialDebate2020 #MadameVicePresidentHarris\n",
            "1326483496689426432 2020-11-11 11:14:45 +0000 <mystretchtv> President Donald Trump Just Made An Announcement On Ballot Results #PresidentialDebate2020 #USElection2020 #AmericaDecides2020 #Election2020   https://t.co/5fgTzTxGw7\n",
            "1326399547510288386 2020-11-11 05:41:10 +0000 <PeacefulKashmi1> @sardesairajdeep Bhai, @yadavtejashwi won 161 seats and defeated @JoeBiden in #BIHAR #PresidentialDebate2020  #BiharVerdict  https://t.co/fQBf87AfHG\n",
            "1326396480492539905 2020-11-11 05:28:58 +0000 <MartiniBluexx> Still My #PresidentialDebate2020 Trump Presidential Election 2020 T-Shirt  https://t.co/tY6iS6hne6 #Amazon\n",
            "1326248948068044800 2020-11-10 19:42:44 +0000 <weponsiss> Why do you like trump.  #PresidentialDebate2020 #president #usa\n",
            "1326248882054057985 2020-11-10 19:42:28 +0000 <weponsiss> Why do you like Joe Biden #PresidentialDebate2020 #president #usa\n",
            "1326231559981027330 2020-11-10 18:33:38 +0000 <MANACATOSLOUIS> #PresidentialDebate2020 Turkey's President #Erdogan congratulates Biden on his win  https://t.co/HOs51MJHwM  https://t.co/fdsEXVAEJP\n",
            "1326221466057125890 2020-11-10 17:53:32 +0000 <PodcastSpeeches> #2020debates #debate #ElectionDay2020 #TrumpConcede #Trump #TrumpvsBiden #Bidenconcede #BidenTransition #Biden #BidenPresidentElect #VPKamalaHarris #pence #President #podcasts  #PresidentialDebate2020 #BidenHarris\n",
            "1326220572284514304 2020-11-10 17:49:59 +0000 <ForcastageNews> 2020 presidential debate:   https://t.co/PnuZ0WK5JJ –––––––––––––– #2020debates #debate #ElectionDay2020 #TrumpConcede #Trump #TrumpvsBiden #Bidenconcede #BidenTransition #Biden #BidenPresidentElect #VPKamalaHarris #pence #President #podcasts  #PresidentialDebate2020 #BidenHarris\n",
            "1326213098382880768 2020-11-10 17:20:17 +0000 <BHASKAR55875351> #PresidentialDebate2020\n",
            "1326212217348427778 2020-11-10 17:16:47 +0000 <adylanguy> #PresidentialElection #PresidentialDebate2020 #PressFreedom #FreedomOfSpeech #FreedomOfExpression  https://t.co/WKiAYTGbTc\n",
            "1326203558975266817 2020-11-10 16:42:22 +0000 <Inthehighest1> @NASAMars @esa  https://t.co/WTIjs3Y5sG Tweeted a movie here #rp aka #mj #ibmwatsonhello #iot #darpa #nsa #rpx #IMAXRegalSweeps #imax #robonaut #ar #vr #dod #blockchain #MixedReality #AI #fbi #cia #regalmovies #usc #narcosmexico #mcu #dccomics #PresidentialDebate2020 #debates #Debate2020\n",
            "1326203471213686785 2020-11-10 16:42:01 +0000 <Inthehighest1> @NASAMars @esa Best if viewed on Desktop or  @Chromecast to your home theater big screen system #rp aka #mj #ibmwatsonhello #iot #darpa #nsa #rpx #IMAXRegalSweeps #imax #robonaut #ar #vr #dod #blockchain #MixedReality #AI #fbi #cia #regalmovies #usc  #mcu #dccomics #PresidentialDebate2020\n",
            "1326199135700209667 2020-11-10 16:24:48 +0000 <ComplainBiz> We received a new complaint about @NBCNews. What is your opinion?    https://t.co/m7EDav7lpr  #PresidentialDebate2020 #NBCNews #presidentialelection  https://t.co/uK2ib6WDVu\n",
            "1326193454259589121 2020-11-10 16:02:13 +0000 <jiwoondongmin> Los fumones de mi barrio tienen más estudios que Merino basura  🤡Ya fuimos  #MerinoJamasSeraMiPresidente  #MerinoNoEsMiPresidente #Merinonomerepresenta  #MerinoCorrupto  #Merino #PresidentialDebate2020  https://t.co/LUgDv4PXpG\n",
            "1326190361744650242 2020-11-10 15:49:56 +0000 <jiwoonhope> No puedo creer que estoy viviendo un golpe de estado y nadie hace nada para impedirlo! JUSTICIA! #MerinoJamasSeraMiPresidente  #MerinoNoEsMiPresidente #Merinonomerepresenta  #MerinoCorrupto  #Merino #PresidentialDebate2020  https://t.co/kxtKE1AmDu\n",
            "1326189036759871490 2020-11-10 15:44:40 +0000 <jiwoonhope> Cantar el himno no te hace mejor persona ni mucho menos mejor gobernador  #MerinoJamasSeraMiPresidente  #MerinoNoEsMiPresidente #Merinonomerepresenta  #MerinoCorrupto  #Merino #PresidentialDebate2020\n",
            "1326188825706639362 2020-11-10 15:43:50 +0000 <jiwoonhope> No puedo creer que estoy viviendo un golpe de estado y nadie hace nada para impedirlo! JUSTICIA! #MerinoJamasSeraMiPresidente  #MerinoNoEsMiPresidente #Merinonomerepresenta  #MerinoCorrupto  #Merino #PresidentialDebate2020\n",
            "1326187151206174729 2020-11-10 15:37:10 +0000 <Victory_AM88> Lol! The m VP elect &amp; our WA governor-elect is my hamster PETER.    #AmericaDecides2020 #PresidentialDebate2020 National #ElectYourPET day  https://t.co/C8q70kf78Z\n",
            "1326185120022343682 2020-11-10 15:29:06 +0000 <RatsHqts> #TikTok #blacklivesmatter #PresidentialDebate2020 #joebiden #gofundme #ElectionResults2020 #Biden2020 (the hashtags are because people are probable to look through these hashtags)  https://t.co/MB9aNHvem1\n",
            "1326182344919707649 2020-11-10 15:18:04 +0000 <pakchoho> #ChinaJoe make China great again #CCPLiedPeopleDied #ccp_is_terrorist CCP China eager the American media to help Biden win the #PresidentialDebate2020\n",
            "1326168009363365889 2020-11-10 14:21:07 +0000 <JadanHoryn> You don’t say? #PresidentialDebate2020 a certain someone promised this and @JoeBiden called him a liar.\n",
            "1326166065580273664 2020-11-10 14:13:23 +0000 <ladylusxious28> I may get anxiety and panic attacks BUT I DO NOT LET THEM GET THE BEST OF ME! I AM MY OWN WARRIOR!  #PRESIDENT #PRESIDENTAIKEN #PresidentialDebate2020 #PresidentElectJanine #PresidentElectAiken\n",
            "1326165992435822595 2020-11-10 14:13:06 +0000 <alegambinii> #PresidentialDebate2020 #MerinoJamasSeraMiPresidente #GolpeDeEstadoEnPeru Me duele ver lo que está pasando. No digo por estar a favor de Vizcarra, solo hay que tener un poco de pensamiento crítico.  https://t.co/NXxq2wf5oP\n",
            "1326135201022554112 2020-11-10 12:10:44 +0000 <TarquinHelmet> I think this is addressed to you @realDonaldTrump  #2020PresidentialElection #PresidentBiden #PresidentBiden #PresidentElectJoe #PresidentialDebate2020  https://t.co/WaWZV4yEFX\n",
            "1326129581347237889 2020-11-10 11:48:25 +0000 <serahcruz> #ProphetMuhammad #PresidentialDebate2020 #Hannity #CHENLE #Google #Samsung #cashback #Zellers #BidenTransition #Bitcoin #Laxmii #BlackLivesMatter #TrumpConcede #thedream #ThanksgivingWithBlackFamilies #Thanksgiving  https://t.co/ERShTiCzhX\n",
            "1326092345398292480 2020-11-10 09:20:27 +0000 <Graham1974Shane> #ElectionFruad parties are a thing heres a live stream to #TRUMP supporters protesting hit link   https://t.co/SLyckQDsUz check it out #Trump #TrumpConcede #Elections2020 #ElectionIntegrity #ElectionResults #PresidentialDebate2020 #PresidentElectBiden #PresidentElectBiden #MAGA☮  https://t.co/bF8j9G1KcR\n",
            "1326062373682229249 2020-11-10 07:21:21 +0000 <Bryan_jameson8> Feelin like Reese Andrews rn #PresidentialDebate2020  https://t.co/eIbRvpYRnK\n",
            "1326054692229623808 2020-11-10 06:50:50 +0000 <SpicyFreeMemes> #fbi #spicymemes #LibertyMemes #dankmemes #EarlyVoting #Election2020 #PresidentialDebate2020 #memesdaily  https://t.co/8nEGAfw5Gt\n",
            "1326032979609542656 2020-11-10 05:24:33 +0000 <ssongch2> #voterfraud #PresidentialDebate2020\n",
            "1326030276045099008 2020-11-10 05:13:48 +0000 <AshtonWRLD999> Kim Jong Un is really upset about Donald Trump 🤣🤣 #PresidentialDebate2020 #DonaldTrump #JOEBIDEN2020 #JoeBiden #Trump2020 #TrumpOutOfTheWhiteHouse #JOE  https://t.co/KONNfGJCe3\n",
            "1326010743045693440 2020-11-10 03:56:11 +0000 <Julissaflores03> Amo mi país, pero me avergüenza mi gobierno!  #PresidentialDebate2020 #Vizcarra\n",
            "1326010562078240768 2020-11-10 03:55:28 +0000 <Julissaflores03> #PresidentialDebate2020  #Vizcarra  https://t.co/NE7mKL1j2Z\n",
            "1325994704635355138 2020-11-10 02:52:28 +0000 <angela_90_> #Corrupta #Peru #PresidentialDebate2020\n",
            "1325989621768089601 2020-11-10 02:32:16 +0000 <barbwebb233> @realDonaldTrump @US_FDA You don’t have to go home, but you can’t stay here.   #SURRENDERDonald  #PresidentialDebate2020\n",
            "1325989568953212928 2020-11-10 02:32:03 +0000 <Amitkam13136973> @KamalaHarris @JoeBiden The same brahmin @KamalaHarris who criticezes reservation policies for the historically oppressed class back home in india may well support #BlackLivesMatter in US. @POTUS @priyankachopra @realDonaldTrump @PressSec @GMA #America #PresidentialDebate2020\n",
            "1325936536555294720 2020-11-09 23:01:19 +0000 <SaAnMi53> @realDonaldTrump @VP @LindseyGrahamSC @tedcruz  @MarkMeadows  @senatemajldr  The entire world knows and accepts..time for you to do the same  #PresidentElectBiden #PresidentialDebate2020\n",
            "1325928737301536776 2020-11-09 22:30:20 +0000 <OfficialChoccy> If I were #president I’d give everyone free choccy milk!   #PresidentElectJoeBiden #PresidentialDebate2020 #funny #trump2020 #youtube\n",
            "1325892170394574848 2020-11-09 20:05:01 +0000 <AhmedQureshiCEO> Congratulations to Vice President Nominee .@JoeBiden The 2020 election race was a nail bitter. Also, I would like to mention the adequate term of @realDonaldTrump , as he has done a great job during the presidential term.  #PresidentialDebate2020  #Election2020\n",
            "1325891183571329025 2020-11-09 20:01:06 +0000 <Wiblicks> @JoeBiden Hi, we have heard on @Channel4News that you are going to ask for more money from Europe for NATO. From listing to you speeking during the #PresidentialDebate2020 we at Wiblicks find this hard to believe. Especially and rightly you are fighting to protect #GoodFridayAgreement.\n"
          ],
          "name": "stdout"
        }
      ]
    },
    {
      "cell_type": "code",
      "metadata": {
        "id": "qZCiqvzGvqTM"
      },
      "source": [
        "data = twint.storage.panda.Tweets_df"
      ],
      "execution_count": null,
      "outputs": []
    },
    {
      "cell_type": "code",
      "metadata": {
        "id": "holam_i2JZbR",
        "colab": {
          "base_uri": "https://localhost:8080/"
        },
        "outputId": "4a38323d-0dfd-4f7e-f72e-81f4a21b578b"
      },
      "source": [
        "data.info()"
      ],
      "execution_count": null,
      "outputs": [
        {
          "output_type": "stream",
          "text": [
            "<class 'pandas.core.frame.DataFrame'>\n",
            "RangeIndex: 168 entries, 0 to 167\n",
            "Data columns (total 38 columns):\n",
            " #   Column           Non-Null Count  Dtype  \n",
            "---  ------           --------------  -----  \n",
            " 0   id               168 non-null    object \n",
            " 1   conversation_id  168 non-null    object \n",
            " 2   created_at       168 non-null    float64\n",
            " 3   date             168 non-null    object \n",
            " 4   timezone         168 non-null    object \n",
            " 5   place            168 non-null    object \n",
            " 6   tweet            168 non-null    object \n",
            " 7   language         168 non-null    object \n",
            " 8   hashtags         168 non-null    object \n",
            " 9   cashtags         168 non-null    object \n",
            " 10  user_id          168 non-null    int64  \n",
            " 11  user_id_str      168 non-null    object \n",
            " 12  username         168 non-null    object \n",
            " 13  name             168 non-null    object \n",
            " 14  day              168 non-null    int64  \n",
            " 15  hour             168 non-null    object \n",
            " 16  link             168 non-null    object \n",
            " 17  urls             168 non-null    object \n",
            " 18  photos           168 non-null    object \n",
            " 19  video            168 non-null    int64  \n",
            " 20  thumbnail        168 non-null    object \n",
            " 21  retweet          168 non-null    bool   \n",
            " 22  nlikes           168 non-null    int64  \n",
            " 23  nreplies         168 non-null    int64  \n",
            " 24  nretweets        168 non-null    int64  \n",
            " 25  quote_url        168 non-null    object \n",
            " 26  search           168 non-null    object \n",
            " 27  near             168 non-null    object \n",
            " 28  geo              168 non-null    object \n",
            " 29  source           168 non-null    object \n",
            " 30  user_rt_id       168 non-null    object \n",
            " 31  user_rt          168 non-null    object \n",
            " 32  retweet_id       168 non-null    object \n",
            " 33  reply_to         168 non-null    object \n",
            " 34  retweet_date     168 non-null    object \n",
            " 35  translate        168 non-null    object \n",
            " 36  trans_src        168 non-null    object \n",
            " 37  trans_dest       168 non-null    object \n",
            "dtypes: bool(1), float64(1), int64(6), object(30)\n",
            "memory usage: 48.9+ KB\n"
          ],
          "name": "stdout"
        }
      ]
    },
    {
      "cell_type": "code",
      "metadata": {
        "id": "Gd-6DaB4KRQm"
      },
      "source": [
        "data.drop_duplicates(subset=['tweet'], inplace=True)"
      ],
      "execution_count": null,
      "outputs": []
    },
    {
      "cell_type": "code",
      "metadata": {
        "id": "34eGTLzIK8X2"
      },
      "source": [
        "data = data[data.language == 'en']"
      ],
      "execution_count": null,
      "outputs": []
    },
    {
      "cell_type": "code",
      "metadata": {
        "id": "WTARVp99KViF"
      },
      "source": [
        "data.index = range(len(data))"
      ],
      "execution_count": null,
      "outputs": []
    },
    {
      "cell_type": "code",
      "metadata": {
        "id": "oIC3VvorKhQ4",
        "colab": {
          "base_uri": "https://localhost:8080/"
        },
        "outputId": "fb15906d-a430-4669-fb95-6918995b44f1"
      },
      "source": [
        "data.info()"
      ],
      "execution_count": null,
      "outputs": [
        {
          "output_type": "stream",
          "text": [
            "<class 'pandas.core.frame.DataFrame'>\n",
            "RangeIndex: 116 entries, 0 to 115\n",
            "Data columns (total 38 columns):\n",
            " #   Column           Non-Null Count  Dtype  \n",
            "---  ------           --------------  -----  \n",
            " 0   id               116 non-null    object \n",
            " 1   conversation_id  116 non-null    object \n",
            " 2   created_at       116 non-null    float64\n",
            " 3   date             116 non-null    object \n",
            " 4   timezone         116 non-null    object \n",
            " 5   place            116 non-null    object \n",
            " 6   tweet            116 non-null    object \n",
            " 7   language         116 non-null    object \n",
            " 8   hashtags         116 non-null    object \n",
            " 9   cashtags         116 non-null    object \n",
            " 10  user_id          116 non-null    int64  \n",
            " 11  user_id_str      116 non-null    object \n",
            " 12  username         116 non-null    object \n",
            " 13  name             116 non-null    object \n",
            " 14  day              116 non-null    int64  \n",
            " 15  hour             116 non-null    object \n",
            " 16  link             116 non-null    object \n",
            " 17  urls             116 non-null    object \n",
            " 18  photos           116 non-null    object \n",
            " 19  video            116 non-null    int64  \n",
            " 20  thumbnail        116 non-null    object \n",
            " 21  retweet          116 non-null    bool   \n",
            " 22  nlikes           116 non-null    int64  \n",
            " 23  nreplies         116 non-null    int64  \n",
            " 24  nretweets        116 non-null    int64  \n",
            " 25  quote_url        116 non-null    object \n",
            " 26  search           116 non-null    object \n",
            " 27  near             116 non-null    object \n",
            " 28  geo              116 non-null    object \n",
            " 29  source           116 non-null    object \n",
            " 30  user_rt_id       116 non-null    object \n",
            " 31  user_rt          116 non-null    object \n",
            " 32  retweet_id       116 non-null    object \n",
            " 33  reply_to         116 non-null    object \n",
            " 34  retweet_date     116 non-null    object \n",
            " 35  translate        116 non-null    object \n",
            " 36  trans_src        116 non-null    object \n",
            " 37  trans_dest       116 non-null    object \n",
            "dtypes: bool(1), float64(1), int64(6), object(30)\n",
            "memory usage: 33.8+ KB\n"
          ],
          "name": "stdout"
        }
      ]
    },
    {
      "cell_type": "code",
      "metadata": {
        "id": "-4khQkvz7XMS"
      },
      "source": [
        "data.to_json('pres_debate_2020.gz', compression='gzip')"
      ],
      "execution_count": null,
      "outputs": []
    }
  ]
}