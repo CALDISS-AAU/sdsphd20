{
  "nbformat": 4,
  "nbformat_minor": 0,
  "metadata": {
    "colab": {
      "name": "SDSPHD_UML_ex.ipynb",
      "private_outputs": true,
      "provenance": [],
      "authorship_tag": "ABX9TyPZzhlJgyawAN+eQvEMGJA5",
      "include_colab_link": true
    },
    "kernelspec": {
      "name": "python3",
      "display_name": "Python 3"
    }
  },
  "cells": [
    {
      "cell_type": "markdown",
      "metadata": {
        "id": "view-in-github",
        "colab_type": "text"
      },
      "source": [
        "<a href=\"https://colab.research.google.com/github/CALDISS-AAU/sdsphd20/blob/master/notebooks/portfolio/SDSPHD_UML_ex.ipynb\" target=\"_parent\"><img src=\"https://colab.research.google.com/assets/colab-badge.svg\" alt=\"Open In Colab\"/></a>"
      ]
    },
    {
      "cell_type": "markdown",
      "metadata": {
        "id": "RSGD9uQfoWcF"
      },
      "source": [
        "# Unsupervised ML with Penguins\n",
        "\n",
        "The palmer penguin dataset is excellent for EDA and UML. It contains different measures for 3 species of closely related penguins from several islands in Antarctica.\n",
        "\n",
        "Let's have a look:\n",
        "\n",
        "Penguin datast: https://github.com/allisonhorst/palmerpenguins\n",
        "![](https://github.com/allisonhorst/palmerpenguins/raw/master/man/figures/lter_penguins.png)"
      ]
    },
    {
      "cell_type": "markdown",
      "metadata": {
        "id": "oADGIlNMpC6J"
      },
      "source": [
        "![](https://github.com/allisonhorst/palmerpenguins/raw/master/man/figures/culmen_depth.png)\n"
      ]
    },
    {
      "cell_type": "markdown",
      "metadata": {
        "id": "DvCwRO50os4t"
      },
      "source": [
        "# Get the data"
      ]
    },
    {
      "cell_type": "code",
      "metadata": {
        "id": "TqOymkJwo__d"
      },
      "source": [
        "# standard packaging\n",
        "\n",
        "import pandas as pd\n",
        "import seaborn as sns\n",
        "sns.set(color_codes=True, rc={'figure.figsize':(10,8)})\n",
        "\n",
        "from IPython.display import HTML #Youtube embed"
      ],
      "execution_count": null,
      "outputs": []
    },
    {
      "cell_type": "code",
      "metadata": {
        "id": "PHCJQBRZouiX"
      },
      "source": [
        "# load the dataset from GitHub - original source\n",
        "\n",
        "penguins = pd.read_csv(\"https://github.com/allisonhorst/palmerpenguins/raw/5b5891f01b52ae26ad8cb9755ec93672f49328a8/data/penguins_size.csv\")"
      ],
      "execution_count": null,
      "outputs": []
    },
    {
      "cell_type": "markdown",
      "metadata": {
        "id": "xHpULRXbpJzk"
      },
      "source": [
        "# Your task\n",
        "\n",
        "1. Inspect the dat with some of the standard functions you learned so far (desc, info etc.). What do we have here?\n",
        "2. Likewise, use some standard visualizations (eg. from seaborn) to express some properties of the data\n",
        "3. Create a new dataset where you scale all numeric values with the standardscaler.\n",
        "4. Perform a PCA analysis\n",
        "5. Investigate the explained variance of the components... do we see an 'ellbow'?\n",
        "5. Plot the data in the space of the first two components. Maybe color it by species or island. What pattern do we see?\n",
        "6. Inspect the correlation between the components. Which variables are they mostly associated with?"
      ]
    }
  ]
}